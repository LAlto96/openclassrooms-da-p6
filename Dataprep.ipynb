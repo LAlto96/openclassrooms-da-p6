{
 "cells": [
  {
   "cell_type": "markdown",
   "id": "671109c3-e107-4528-af4f-4215ecb1d9e3",
   "metadata": {
    "tags": []
   },
   "source": [
    "# <u> Analysez les ventes d'une librairie avec R ou Python : Analyse et nettoyage du jeu de données</u>"
   ]
  },
  {
   "cell_type": "markdown",
   "id": "cbd9750f-95a0-4e9a-a809-bf7feb1fbcd6",
   "metadata": {},
   "source": [
    "# Table des matières\n"
   ]
  },
  {
   "cell_type": "markdown",
   "id": "2ae6cfa7-696e-496c-9827-b0914efb1829",
   "metadata": {
    "jp-MarkdownHeadingCollapsed": true,
    "tags": []
   },
   "source": [
    "# Import des librairies"
   ]
  },
  {
   "cell_type": "code",
   "execution_count": 1,
   "id": "2ead0bf7-8875-4536-88d5-4bcb99ad1bc1",
   "metadata": {},
   "outputs": [
    {
     "data": {
      "text/html": [
       "<div class=\"bk-root\">\n",
       "        <a href=\"https://bokeh.org\" target=\"_blank\" class=\"bk-logo bk-logo-small bk-logo-notebook\"></a>\n",
       "        <span id=\"1002\">Loading BokehJS ...</span>\n",
       "    </div>\n"
      ]
     },
     "metadata": {},
     "output_type": "display_data"
    },
    {
     "data": {
      "application/javascript": "(function(root) {\n  function now() {\n    return new Date();\n  }\n\n  const force = true;\n\n  if (typeof root._bokeh_onload_callbacks === \"undefined\" || force === true) {\n    root._bokeh_onload_callbacks = [];\n    root._bokeh_is_loading = undefined;\n  }\n\nconst JS_MIME_TYPE = 'application/javascript';\n  const HTML_MIME_TYPE = 'text/html';\n  const EXEC_MIME_TYPE = 'application/vnd.bokehjs_exec.v0+json';\n  const CLASS_NAME = 'output_bokeh rendered_html';\n\n  /**\n   * Render data to the DOM node\n   */\n  function render(props, node) {\n    const script = document.createElement(\"script\");\n    node.appendChild(script);\n  }\n\n  /**\n   * Handle when an output is cleared or removed\n   */\n  function handleClearOutput(event, handle) {\n    const cell = handle.cell;\n\n    const id = cell.output_area._bokeh_element_id;\n    const server_id = cell.output_area._bokeh_server_id;\n    // Clean up Bokeh references\n    if (id != null && id in Bokeh.index) {\n      Bokeh.index[id].model.document.clear();\n      delete Bokeh.index[id];\n    }\n\n    if (server_id !== undefined) {\n      // Clean up Bokeh references\n      const cmd_clean = \"from bokeh.io.state import curstate; print(curstate().uuid_to_server['\" + server_id + \"'].get_sessions()[0].document.roots[0]._id)\";\n      cell.notebook.kernel.execute(cmd_clean, {\n        iopub: {\n          output: function(msg) {\n            const id = msg.content.text.trim();\n            if (id in Bokeh.index) {\n              Bokeh.index[id].model.document.clear();\n              delete Bokeh.index[id];\n            }\n          }\n        }\n      });\n      // Destroy server and session\n      const cmd_destroy = \"import bokeh.io.notebook as ion; ion.destroy_server('\" + server_id + \"')\";\n      cell.notebook.kernel.execute(cmd_destroy);\n    }\n  }\n\n  /**\n   * Handle when a new output is added\n   */\n  function handleAddOutput(event, handle) {\n    const output_area = handle.output_area;\n    const output = handle.output;\n\n    // limit handleAddOutput to display_data with EXEC_MIME_TYPE content only\n    if ((output.output_type != \"display_data\") || (!Object.prototype.hasOwnProperty.call(output.data, EXEC_MIME_TYPE))) {\n      return\n    }\n\n    const toinsert = output_area.element.find(\".\" + CLASS_NAME.split(' ')[0]);\n\n    if (output.metadata[EXEC_MIME_TYPE][\"id\"] !== undefined) {\n      toinsert[toinsert.length - 1].firstChild.textContent = output.data[JS_MIME_TYPE];\n      // store reference to embed id on output_area\n      output_area._bokeh_element_id = output.metadata[EXEC_MIME_TYPE][\"id\"];\n    }\n    if (output.metadata[EXEC_MIME_TYPE][\"server_id\"] !== undefined) {\n      const bk_div = document.createElement(\"div\");\n      bk_div.innerHTML = output.data[HTML_MIME_TYPE];\n      const script_attrs = bk_div.children[0].attributes;\n      for (let i = 0; i < script_attrs.length; i++) {\n        toinsert[toinsert.length - 1].firstChild.setAttribute(script_attrs[i].name, script_attrs[i].value);\n        toinsert[toinsert.length - 1].firstChild.textContent = bk_div.children[0].textContent\n      }\n      // store reference to server id on output_area\n      output_area._bokeh_server_id = output.metadata[EXEC_MIME_TYPE][\"server_id\"];\n    }\n  }\n\n  function register_renderer(events, OutputArea) {\n\n    function append_mime(data, metadata, element) {\n      // create a DOM node to render to\n      const toinsert = this.create_output_subarea(\n        metadata,\n        CLASS_NAME,\n        EXEC_MIME_TYPE\n      );\n      this.keyboard_manager.register_events(toinsert);\n      // Render to node\n      const props = {data: data, metadata: metadata[EXEC_MIME_TYPE]};\n      render(props, toinsert[toinsert.length - 1]);\n      element.append(toinsert);\n      return toinsert\n    }\n\n    /* Handle when an output is cleared or removed */\n    events.on('clear_output.CodeCell', handleClearOutput);\n    events.on('delete.Cell', handleClearOutput);\n\n    /* Handle when a new output is added */\n    events.on('output_added.OutputArea', handleAddOutput);\n\n    /**\n     * Register the mime type and append_mime function with output_area\n     */\n    OutputArea.prototype.register_mime_type(EXEC_MIME_TYPE, append_mime, {\n      /* Is output safe? */\n      safe: true,\n      /* Index of renderer in `output_area.display_order` */\n      index: 0\n    });\n  }\n\n  // register the mime type if in Jupyter Notebook environment and previously unregistered\n  if (root.Jupyter !== undefined) {\n    const events = require('base/js/events');\n    const OutputArea = require('notebook/js/outputarea').OutputArea;\n\n    if (OutputArea.prototype.mime_types().indexOf(EXEC_MIME_TYPE) == -1) {\n      register_renderer(events, OutputArea);\n    }\n  }\n  if (typeof (root._bokeh_timeout) === \"undefined\" || force === true) {\n    root._bokeh_timeout = Date.now() + 5000;\n    root._bokeh_failed_load = false;\n  }\n\n  const NB_LOAD_WARNING = {'data': {'text/html':\n     \"<div style='background-color: #fdd'>\\n\"+\n     \"<p>\\n\"+\n     \"BokehJS does not appear to have successfully loaded. If loading BokehJS from CDN, this \\n\"+\n     \"may be due to a slow or bad network connection. Possible fixes:\\n\"+\n     \"</p>\\n\"+\n     \"<ul>\\n\"+\n     \"<li>re-rerun `output_notebook()` to attempt to load from CDN again, or</li>\\n\"+\n     \"<li>use INLINE resources instead, as so:</li>\\n\"+\n     \"</ul>\\n\"+\n     \"<code>\\n\"+\n     \"from bokeh.resources import INLINE\\n\"+\n     \"output_notebook(resources=INLINE)\\n\"+\n     \"</code>\\n\"+\n     \"</div>\"}};\n\n  function display_loaded() {\n    const el = document.getElementById(\"1002\");\n    if (el != null) {\n      el.textContent = \"BokehJS is loading...\";\n    }\n    if (root.Bokeh !== undefined) {\n      if (el != null) {\n        el.textContent = \"BokehJS \" + root.Bokeh.version + \" successfully loaded.\";\n      }\n    } else if (Date.now() < root._bokeh_timeout) {\n      setTimeout(display_loaded, 100)\n    }\n  }\n\n  function run_callbacks() {\n    try {\n      root._bokeh_onload_callbacks.forEach(function(callback) {\n        if (callback != null)\n          callback();\n      });\n    } finally {\n      delete root._bokeh_onload_callbacks\n    }\n    console.debug(\"Bokeh: all callbacks have finished\");\n  }\n\n  function load_libs(css_urls, js_urls, callback) {\n    if (css_urls == null) css_urls = [];\n    if (js_urls == null) js_urls = [];\n\n    root._bokeh_onload_callbacks.push(callback);\n    if (root._bokeh_is_loading > 0) {\n      console.debug(\"Bokeh: BokehJS is being loaded, scheduling callback at\", now());\n      return null;\n    }\n    if (js_urls == null || js_urls.length === 0) {\n      run_callbacks();\n      return null;\n    }\n    console.debug(\"Bokeh: BokehJS not loaded, scheduling load and callback at\", now());\n    root._bokeh_is_loading = css_urls.length + js_urls.length;\n\n    function on_load() {\n      root._bokeh_is_loading--;\n      if (root._bokeh_is_loading === 0) {\n        console.debug(\"Bokeh: all BokehJS libraries/stylesheets loaded\");\n        run_callbacks()\n      }\n    }\n\n    function on_error(url) {\n      console.error(\"failed to load \" + url);\n    }\n\n    for (let i = 0; i < css_urls.length; i++) {\n      const url = css_urls[i];\n      const element = document.createElement(\"link\");\n      element.onload = on_load;\n      element.onerror = on_error.bind(null, url);\n      element.rel = \"stylesheet\";\n      element.type = \"text/css\";\n      element.href = url;\n      console.debug(\"Bokeh: injecting link tag for BokehJS stylesheet: \", url);\n      document.body.appendChild(element);\n    }\n\n    for (let i = 0; i < js_urls.length; i++) {\n      const url = js_urls[i];\n      const element = document.createElement('script');\n      element.onload = on_load;\n      element.onerror = on_error.bind(null, url);\n      element.async = false;\n      element.src = url;\n      console.debug(\"Bokeh: injecting script tag for BokehJS library: \", url);\n      document.head.appendChild(element);\n    }\n  };\n\n  function inject_raw_css(css) {\n    const element = document.createElement(\"style\");\n    element.appendChild(document.createTextNode(css));\n    document.body.appendChild(element);\n  }\n\n  const js_urls = [\"https://cdn.bokeh.org/bokeh/release/bokeh-2.4.3.min.js\", \"https://cdn.bokeh.org/bokeh/release/bokeh-gl-2.4.3.min.js\", \"https://cdn.bokeh.org/bokeh/release/bokeh-widgets-2.4.3.min.js\", \"https://cdn.bokeh.org/bokeh/release/bokeh-tables-2.4.3.min.js\", \"https://cdn.bokeh.org/bokeh/release/bokeh-mathjax-2.4.3.min.js\"];\n  const css_urls = [];\n\n  const inline_js = [    function(Bokeh) {\n      Bokeh.set_log_level(\"info\");\n    },\nfunction(Bokeh) {\n    }\n  ];\n\n  function run_inline_js() {\n    if (root.Bokeh !== undefined || force === true) {\n          for (let i = 0; i < inline_js.length; i++) {\n      inline_js[i].call(root, root.Bokeh);\n    }\nif (force === true) {\n        display_loaded();\n      }} else if (Date.now() < root._bokeh_timeout) {\n      setTimeout(run_inline_js, 100);\n    } else if (!root._bokeh_failed_load) {\n      console.log(\"Bokeh: BokehJS failed to load within specified timeout.\");\n      root._bokeh_failed_load = true;\n    } else if (force !== true) {\n      const cell = $(document.getElementById(\"1002\")).parents('.cell').data().cell;\n      cell.output_area.append_execute_result(NB_LOAD_WARNING)\n    }\n  }\n\n  if (root._bokeh_is_loading === 0) {\n    console.debug(\"Bokeh: BokehJS loaded, going straight to plotting\");\n    run_inline_js();\n  } else {\n    load_libs(css_urls, js_urls, function() {\n      console.debug(\"Bokeh: BokehJS plotting callback run at\", now());\n      run_inline_js();\n    });\n  }\n}(window));",
      "application/vnd.bokehjs_load.v0+json": ""
     },
     "metadata": {},
     "output_type": "display_data"
    }
   ],
   "source": [
    "import numpy as np\n",
    "import pandas as pd\n",
    "import scipy.special\n",
    "from bokeh.io import output_notebook,output_file, show\n",
    "from bokeh.models import ColumnDataSource, FactorRange, HoverTool, Div, Range1d\n",
    "from bokeh.plotting import figure\n",
    "from bokeh.layouts import row, column\n",
    "from math import pi\n",
    "\n",
    "#from wordcloud import WordCloud\n",
    "import matplotlib.pyplot as plt\n",
    "\n",
    "import warnings\n",
    "warnings.filterwarnings('ignore', category=UserWarning, module='openpyxl')\n",
    "output_notebook()"
   ]
  },
  {
   "cell_type": "code",
   "execution_count": 2,
   "id": "7b5523b7-2b05-4bba-a2bd-30a104d71523",
   "metadata": {},
   "outputs": [
    {
     "name": "stdout",
     "output_type": "stream",
     "text": [
      "Python 3.10.6\n"
     ]
    }
   ],
   "source": [
    "!python3 --version"
   ]
  },
  {
   "cell_type": "markdown",
   "id": "5d778e7a",
   "metadata": {},
   "source": [
    "# Class Color\n",
    "Will be used to add attributes to text in *print* function"
   ]
  },
  {
   "cell_type": "code",
   "execution_count": 3,
   "id": "aa332eb2",
   "metadata": {},
   "outputs": [],
   "source": [
    "class color:\n",
    "   PURPLE = '\\033[95m'\n",
    "   CYAN = '\\033[96m'\n",
    "   DARKCYAN = '\\033[36m'\n",
    "   BLUE = '\\033[94m'\n",
    "   GREEN = '\\033[92m'\n",
    "   YELLOW = '\\033[93m'\n",
    "   RED = '\\033[91m'\n",
    "   BOLD = '\\033[1m'\n",
    "   UNDERLINE = '\\033[4m'\n",
    "   END = '\\033[0m'"
   ]
  },
  {
   "cell_type": "markdown",
   "id": "f0eea85d-a446-472a-a2f2-a1a797d8e228",
   "metadata": {
    "tags": []
   },
   "source": [
    "# Analyse des métadonnées"
   ]
  },
  {
   "cell_type": "markdown",
   "id": "834bfb76-19ab-4de6-acc2-248fd9a76a93",
   "metadata": {
    "jp-MarkdownHeadingCollapsed": true,
    "tags": []
   },
   "source": [
    "## Import des fichiers csv dans un DataFrame"
   ]
  },
  {
   "cell_type": "code",
   "execution_count": 4,
   "id": "ba577367-5f22-4483-ba86-a8ff4407fffa",
   "metadata": {},
   "outputs": [],
   "source": [
    "df_customers=pd.read_csv('./data/customers.csv',sep=',')\n",
    "df_products=pd.read_csv('./data/products.csv',sep=',')\n",
    "df_transactions=pd.read_csv('./data/transactions.csv',sep=',')"
   ]
  },
  {
   "cell_type": "code",
   "execution_count": 5,
   "id": "112fa2e8",
   "metadata": {},
   "outputs": [
    {
     "data": {
      "text/plain": [
       "Index(['id_prod', 'price', 'categ'], dtype='object')"
      ]
     },
     "execution_count": 5,
     "metadata": {},
     "output_type": "execute_result"
    }
   ],
   "source": [
    "df_products.columns"
   ]
  },
  {
   "cell_type": "code",
   "execution_count": 6,
   "id": "b171896f-a147-4459-a34e-1293291841b3",
   "metadata": {},
   "outputs": [
    {
     "data": {
      "text/html": [
       "<div>\n",
       "<style scoped>\n",
       "    .dataframe tbody tr th:only-of-type {\n",
       "        vertical-align: middle;\n",
       "    }\n",
       "\n",
       "    .dataframe tbody tr th {\n",
       "        vertical-align: top;\n",
       "    }\n",
       "\n",
       "    .dataframe thead th {\n",
       "        text-align: right;\n",
       "    }\n",
       "</style>\n",
       "<table border=\"1\" class=\"dataframe\">\n",
       "  <thead>\n",
       "    <tr style=\"text-align: right;\">\n",
       "      <th></th>\n",
       "      <th>client_id</th>\n",
       "      <th>sex</th>\n",
       "      <th>birth</th>\n",
       "    </tr>\n",
       "  </thead>\n",
       "  <tbody>\n",
       "    <tr>\n",
       "      <th>0</th>\n",
       "      <td>c_4410</td>\n",
       "      <td>f</td>\n",
       "      <td>1967</td>\n",
       "    </tr>\n",
       "    <tr>\n",
       "      <th>1</th>\n",
       "      <td>c_7839</td>\n",
       "      <td>f</td>\n",
       "      <td>1975</td>\n",
       "    </tr>\n",
       "    <tr>\n",
       "      <th>2</th>\n",
       "      <td>c_1699</td>\n",
       "      <td>f</td>\n",
       "      <td>1984</td>\n",
       "    </tr>\n",
       "    <tr>\n",
       "      <th>3</th>\n",
       "      <td>c_5961</td>\n",
       "      <td>f</td>\n",
       "      <td>1962</td>\n",
       "    </tr>\n",
       "    <tr>\n",
       "      <th>4</th>\n",
       "      <td>c_5320</td>\n",
       "      <td>m</td>\n",
       "      <td>1943</td>\n",
       "    </tr>\n",
       "  </tbody>\n",
       "</table>\n",
       "</div>"
      ],
      "text/plain": [
       "  client_id sex  birth\n",
       "0    c_4410   f   1967\n",
       "1    c_7839   f   1975\n",
       "2    c_1699   f   1984\n",
       "3    c_5961   f   1962\n",
       "4    c_5320   m   1943"
      ]
     },
     "execution_count": 6,
     "metadata": {},
     "output_type": "execute_result"
    }
   ],
   "source": [
    "df_customers.head()"
   ]
  },
  {
   "cell_type": "code",
   "execution_count": 7,
   "id": "8bcfb538-e7ef-463a-8d27-4906aa2e7a39",
   "metadata": {},
   "outputs": [
    {
     "data": {
      "text/plain": [
       "(8623, 3)"
      ]
     },
     "execution_count": 7,
     "metadata": {},
     "output_type": "execute_result"
    }
   ],
   "source": [
    "df_customers.shape"
   ]
  },
  {
   "cell_type": "code",
   "execution_count": 8,
   "id": "9f849a8e-0140-43b0-a3aa-fb5758b34768",
   "metadata": {},
   "outputs": [
    {
     "data": {
      "text/html": [
       "<div>\n",
       "<style scoped>\n",
       "    .dataframe tbody tr th:only-of-type {\n",
       "        vertical-align: middle;\n",
       "    }\n",
       "\n",
       "    .dataframe tbody tr th {\n",
       "        vertical-align: top;\n",
       "    }\n",
       "\n",
       "    .dataframe thead th {\n",
       "        text-align: right;\n",
       "    }\n",
       "</style>\n",
       "<table border=\"1\" class=\"dataframe\">\n",
       "  <thead>\n",
       "    <tr style=\"text-align: right;\">\n",
       "      <th></th>\n",
       "      <th>id_prod</th>\n",
       "      <th>price</th>\n",
       "      <th>categ</th>\n",
       "    </tr>\n",
       "  </thead>\n",
       "  <tbody>\n",
       "    <tr>\n",
       "      <th>0</th>\n",
       "      <td>0_1421</td>\n",
       "      <td>19.99</td>\n",
       "      <td>0</td>\n",
       "    </tr>\n",
       "    <tr>\n",
       "      <th>1</th>\n",
       "      <td>0_1368</td>\n",
       "      <td>5.13</td>\n",
       "      <td>0</td>\n",
       "    </tr>\n",
       "    <tr>\n",
       "      <th>2</th>\n",
       "      <td>0_731</td>\n",
       "      <td>17.99</td>\n",
       "      <td>0</td>\n",
       "    </tr>\n",
       "    <tr>\n",
       "      <th>3</th>\n",
       "      <td>1_587</td>\n",
       "      <td>4.99</td>\n",
       "      <td>1</td>\n",
       "    </tr>\n",
       "    <tr>\n",
       "      <th>4</th>\n",
       "      <td>0_1507</td>\n",
       "      <td>3.99</td>\n",
       "      <td>0</td>\n",
       "    </tr>\n",
       "  </tbody>\n",
       "</table>\n",
       "</div>"
      ],
      "text/plain": [
       "  id_prod  price  categ\n",
       "0  0_1421  19.99      0\n",
       "1  0_1368   5.13      0\n",
       "2   0_731  17.99      0\n",
       "3   1_587   4.99      1\n",
       "4  0_1507   3.99      0"
      ]
     },
     "execution_count": 8,
     "metadata": {},
     "output_type": "execute_result"
    }
   ],
   "source": [
    "df_products.head()"
   ]
  },
  {
   "cell_type": "code",
   "execution_count": 9,
   "id": "dd3b9cff-54ce-49a4-a84f-2c6f980f7d21",
   "metadata": {},
   "outputs": [
    {
     "data": {
      "text/plain": [
       "(3287, 3)"
      ]
     },
     "execution_count": 9,
     "metadata": {},
     "output_type": "execute_result"
    }
   ],
   "source": [
    "df_products.shape"
   ]
  },
  {
   "cell_type": "code",
   "execution_count": 10,
   "id": "9586348e-9af5-48df-9863-3170f626b149",
   "metadata": {},
   "outputs": [
    {
     "data": {
      "text/html": [
       "<div>\n",
       "<style scoped>\n",
       "    .dataframe tbody tr th:only-of-type {\n",
       "        vertical-align: middle;\n",
       "    }\n",
       "\n",
       "    .dataframe tbody tr th {\n",
       "        vertical-align: top;\n",
       "    }\n",
       "\n",
       "    .dataframe thead th {\n",
       "        text-align: right;\n",
       "    }\n",
       "</style>\n",
       "<table border=\"1\" class=\"dataframe\">\n",
       "  <thead>\n",
       "    <tr style=\"text-align: right;\">\n",
       "      <th></th>\n",
       "      <th>id_prod</th>\n",
       "      <th>date</th>\n",
       "      <th>session_id</th>\n",
       "      <th>client_id</th>\n",
       "    </tr>\n",
       "  </thead>\n",
       "  <tbody>\n",
       "    <tr>\n",
       "      <th>0</th>\n",
       "      <td>0_1518</td>\n",
       "      <td>2022-05-20 13:21:29.043970</td>\n",
       "      <td>s_211425</td>\n",
       "      <td>c_103</td>\n",
       "    </tr>\n",
       "    <tr>\n",
       "      <th>1</th>\n",
       "      <td>1_251</td>\n",
       "      <td>2022-02-02 07:55:19.149409</td>\n",
       "      <td>s_158752</td>\n",
       "      <td>c_8534</td>\n",
       "    </tr>\n",
       "    <tr>\n",
       "      <th>2</th>\n",
       "      <td>0_1277</td>\n",
       "      <td>2022-06-18 15:44:33.155329</td>\n",
       "      <td>s_225667</td>\n",
       "      <td>c_6714</td>\n",
       "    </tr>\n",
       "    <tr>\n",
       "      <th>3</th>\n",
       "      <td>2_209</td>\n",
       "      <td>2021-06-24 04:19:29.835891</td>\n",
       "      <td>s_52962</td>\n",
       "      <td>c_6941</td>\n",
       "    </tr>\n",
       "    <tr>\n",
       "      <th>4</th>\n",
       "      <td>0_1509</td>\n",
       "      <td>2023-01-11 08:22:08.194479</td>\n",
       "      <td>s_325227</td>\n",
       "      <td>c_4232</td>\n",
       "    </tr>\n",
       "  </tbody>\n",
       "</table>\n",
       "</div>"
      ],
      "text/plain": [
       "  id_prod                        date session_id client_id\n",
       "0  0_1518  2022-05-20 13:21:29.043970   s_211425     c_103\n",
       "1   1_251  2022-02-02 07:55:19.149409   s_158752    c_8534\n",
       "2  0_1277  2022-06-18 15:44:33.155329   s_225667    c_6714\n",
       "3   2_209  2021-06-24 04:19:29.835891    s_52962    c_6941\n",
       "4  0_1509  2023-01-11 08:22:08.194479   s_325227    c_4232"
      ]
     },
     "execution_count": 10,
     "metadata": {},
     "output_type": "execute_result"
    }
   ],
   "source": [
    "df_transactions.head()"
   ]
  },
  {
   "cell_type": "code",
   "execution_count": 11,
   "id": "abdfa902-ae27-4933-9b31-8859ef2caa73",
   "metadata": {},
   "outputs": [
    {
     "data": {
      "text/plain": [
       "(679532, 4)"
      ]
     },
     "execution_count": 11,
     "metadata": {},
     "output_type": "execute_result"
    }
   ],
   "source": [
    "\n",
    "df_transactions.shape"
   ]
  },
  {
   "cell_type": "markdown",
   "id": "66e6d7a1-780c-4d04-acde-00b5030fd794",
   "metadata": {},
   "source": [
    "Nous pouvons déjà identifier des **clés** :\n",
    "- id_prod\n",
    "- client_id\n",
    "- session_id\n",
    "\n",
    "De plus si l'on s'attarde sur le format des dates dans la table transaction, nous pouvons déjà penser qu'il faudra faire un peu de mise en forme de ce côté"
   ]
  },
  {
   "cell_type": "markdown",
   "id": "a3b9b543-3675-4466-8453-9ca19ee48805",
   "metadata": {},
   "source": [
    "## Etude quantitative"
   ]
  },
  {
   "cell_type": "code",
   "execution_count": 12,
   "id": "e5e61015-5386-47ec-8d15-26e4025ae20f",
   "metadata": {},
   "outputs": [],
   "source": [
    "def get_dataframe_info(df):\n",
    "    \"\"\"Get DataFrame_Info\n",
    "    input\n",
    "       df -> DataFrame\n",
    "    output\n",
    "       df_null_counts -> DataFrame Info (sorted)\n",
    "    \"\"\"\n",
    "\n",
    "    df_types = pd.DataFrame(df.dtypes)\n",
    "    df_nulls = df.count()\n",
    "    \n",
    "    df_null_count = pd.concat([df_types, df_nulls], axis=1)\n",
    "    df_null_count = df_null_count.reset_index()\n",
    "    \n",
    "    # Reassign column names\n",
    "    col_names = [\"features\", \"types\", \"non_null_counts\"]\n",
    "    df_null_count.columns = col_names\n",
    "    \n",
    "    # Add this to sort\n",
    "    df_null_count = df_null_count.sort_values(by=[\"non_null_counts\"], ascending=False)\n",
    "    \n",
    "    return df_null_count"
   ]
  },
  {
   "cell_type": "code",
   "execution_count": 13,
   "id": "00261979-799e-448c-b1c0-e7dab46072cf",
   "metadata": {},
   "outputs": [],
   "source": [
    "def metadata(df:pd.DataFrame,title,yrange=1600):\n",
    "    \"\"\"Generate Graph on Metadata\n",
    "    Input:\n",
    "        df -> DataFrame\n",
    "        title -> Title of Graph (str)\n",
    "        yrange -> Y-Axis Range (int)\n",
    "    Output:\n",
    "        Bokeh Figure\n",
    "    \"\"\"   \n",
    "    df['types'] = df['types'].astype('str') \n",
    "    x=df['features'].tolist()\n",
    "    y=df['non_null_counts'].tolist()\n",
    "    types=df['types'].tolist()\n",
    "    source = ColumnDataSource(data=dict(x=x, y=y,types=types))\n",
    "    hover = HoverTool(\n",
    "            tooltips=[\n",
    "                (\"Colonne\", \"@x\"),\n",
    "                (\"Nombre de valeurs\",\"@y\"),\n",
    "                (\"type\", \"@types\"),\n",
    "            ]\n",
    "        )\n",
    "    \n",
    "    p = figure(x_range=x,title=title,tools=[hover, 'pan', 'wheel_zoom','reset'],toolbar_location=\"right\",y_range=(0,yrange))\n",
    "    p.vbar(x='x', top='y', width=0.9, source=source)\n",
    "    p.xaxis.axis_label=\"Nom de la métadonnée\"\n",
    "    p.yaxis.axis_label=\"Nombre de métadonnée\"\n",
    "    p.xaxis.major_label_orientation = pi/4\n",
    "    return p"
   ]
  },
  {
   "cell_type": "code",
   "execution_count": 14,
   "id": "0d82c038",
   "metadata": {},
   "outputs": [
    {
     "data": {
      "text/html": [
       "<div style=\"display: table;\"><div style=\"display: table-row;\"><div style=\"display: table-cell;\"><b title=\"bokeh.plotting.figure.Figure\">Figure</b>(</div><div style=\"display: table-cell;\">id&nbsp;=&nbsp;'1005', <span id=\"1038\" style=\"cursor: pointer;\">&hellip;)</span></div></div><div class=\"1037\" style=\"display: none;\"><div style=\"display: table-cell;\"></div><div style=\"display: table-cell;\">above&nbsp;=&nbsp;[],</div></div><div class=\"1037\" style=\"display: none;\"><div style=\"display: table-cell;\"></div><div style=\"display: table-cell;\">align&nbsp;=&nbsp;'start',</div></div><div class=\"1037\" style=\"display: none;\"><div style=\"display: table-cell;\"></div><div style=\"display: table-cell;\">aspect_ratio&nbsp;=&nbsp;None,</div></div><div class=\"1037\" style=\"display: none;\"><div style=\"display: table-cell;\"></div><div style=\"display: table-cell;\">aspect_scale&nbsp;=&nbsp;1,</div></div><div class=\"1037\" style=\"display: none;\"><div style=\"display: table-cell;\"></div><div style=\"display: table-cell;\">background&nbsp;=&nbsp;None,</div></div><div class=\"1037\" style=\"display: none;\"><div style=\"display: table-cell;\"></div><div style=\"display: table-cell;\">background_fill_alpha&nbsp;=&nbsp;1.0,</div></div><div class=\"1037\" style=\"display: none;\"><div style=\"display: table-cell;\"></div><div style=\"display: table-cell;\">background_fill_color&nbsp;=&nbsp;'#ffffff',</div></div><div class=\"1037\" style=\"display: none;\"><div style=\"display: table-cell;\"></div><div style=\"display: table-cell;\">below&nbsp;=&nbsp;[CategoricalAxis(id='1016', ...)],</div></div><div class=\"1037\" style=\"display: none;\"><div style=\"display: table-cell;\"></div><div style=\"display: table-cell;\">border_fill_alpha&nbsp;=&nbsp;1.0,</div></div><div class=\"1037\" style=\"display: none;\"><div style=\"display: table-cell;\"></div><div style=\"display: table-cell;\">border_fill_color&nbsp;=&nbsp;'#ffffff',</div></div><div class=\"1037\" style=\"display: none;\"><div style=\"display: table-cell;\"></div><div style=\"display: table-cell;\">center&nbsp;=&nbsp;[Grid(id='1018', ...), Grid(id='1022', ...)],</div></div><div class=\"1037\" style=\"display: none;\"><div style=\"display: table-cell;\"></div><div style=\"display: table-cell;\">css_classes&nbsp;=&nbsp;[],</div></div><div class=\"1037\" style=\"display: none;\"><div style=\"display: table-cell;\"></div><div style=\"display: table-cell;\">disabled&nbsp;=&nbsp;False,</div></div><div class=\"1037\" style=\"display: none;\"><div style=\"display: table-cell;\"></div><div style=\"display: table-cell;\">extra_x_ranges&nbsp;=&nbsp;{},</div></div><div class=\"1037\" style=\"display: none;\"><div style=\"display: table-cell;\"></div><div style=\"display: table-cell;\">extra_x_scales&nbsp;=&nbsp;{},</div></div><div class=\"1037\" style=\"display: none;\"><div style=\"display: table-cell;\"></div><div style=\"display: table-cell;\">extra_y_ranges&nbsp;=&nbsp;{},</div></div><div class=\"1037\" style=\"display: none;\"><div style=\"display: table-cell;\"></div><div style=\"display: table-cell;\">extra_y_scales&nbsp;=&nbsp;{},</div></div><div class=\"1037\" style=\"display: none;\"><div style=\"display: table-cell;\"></div><div style=\"display: table-cell;\">frame_height&nbsp;=&nbsp;None,</div></div><div class=\"1037\" style=\"display: none;\"><div style=\"display: table-cell;\"></div><div style=\"display: table-cell;\">frame_width&nbsp;=&nbsp;None,</div></div><div class=\"1037\" style=\"display: none;\"><div style=\"display: table-cell;\"></div><div style=\"display: table-cell;\">height&nbsp;=&nbsp;600,</div></div><div class=\"1037\" style=\"display: none;\"><div style=\"display: table-cell;\"></div><div style=\"display: table-cell;\">height_policy&nbsp;=&nbsp;'auto',</div></div><div class=\"1037\" style=\"display: none;\"><div style=\"display: table-cell;\"></div><div style=\"display: table-cell;\">hidpi&nbsp;=&nbsp;True,</div></div><div class=\"1037\" style=\"display: none;\"><div style=\"display: table-cell;\"></div><div style=\"display: table-cell;\">inner_height&nbsp;=&nbsp;0,</div></div><div class=\"1037\" style=\"display: none;\"><div style=\"display: table-cell;\"></div><div style=\"display: table-cell;\">inner_width&nbsp;=&nbsp;0,</div></div><div class=\"1037\" style=\"display: none;\"><div style=\"display: table-cell;\"></div><div style=\"display: table-cell;\">js_event_callbacks&nbsp;=&nbsp;{},</div></div><div class=\"1037\" style=\"display: none;\"><div style=\"display: table-cell;\"></div><div style=\"display: table-cell;\">js_property_callbacks&nbsp;=&nbsp;{},</div></div><div class=\"1037\" style=\"display: none;\"><div style=\"display: table-cell;\"></div><div style=\"display: table-cell;\">left&nbsp;=&nbsp;[LinearAxis(id='1019', ...)],</div></div><div class=\"1037\" style=\"display: none;\"><div style=\"display: table-cell;\"></div><div style=\"display: table-cell;\">lod_factor&nbsp;=&nbsp;10,</div></div><div class=\"1037\" style=\"display: none;\"><div style=\"display: table-cell;\"></div><div style=\"display: table-cell;\">lod_interval&nbsp;=&nbsp;300,</div></div><div class=\"1037\" style=\"display: none;\"><div style=\"display: table-cell;\"></div><div style=\"display: table-cell;\">lod_threshold&nbsp;=&nbsp;2000,</div></div><div class=\"1037\" style=\"display: none;\"><div style=\"display: table-cell;\"></div><div style=\"display: table-cell;\">lod_timeout&nbsp;=&nbsp;500,</div></div><div class=\"1037\" style=\"display: none;\"><div style=\"display: table-cell;\"></div><div style=\"display: table-cell;\">margin&nbsp;=&nbsp;(0, 0, 0, 0),</div></div><div class=\"1037\" style=\"display: none;\"><div style=\"display: table-cell;\"></div><div style=\"display: table-cell;\">match_aspect&nbsp;=&nbsp;False,</div></div><div class=\"1037\" style=\"display: none;\"><div style=\"display: table-cell;\"></div><div style=\"display: table-cell;\">max_height&nbsp;=&nbsp;None,</div></div><div class=\"1037\" style=\"display: none;\"><div style=\"display: table-cell;\"></div><div style=\"display: table-cell;\">max_width&nbsp;=&nbsp;None,</div></div><div class=\"1037\" style=\"display: none;\"><div style=\"display: table-cell;\"></div><div style=\"display: table-cell;\">min_border&nbsp;=&nbsp;5,</div></div><div class=\"1037\" style=\"display: none;\"><div style=\"display: table-cell;\"></div><div style=\"display: table-cell;\">min_border_bottom&nbsp;=&nbsp;None,</div></div><div class=\"1037\" style=\"display: none;\"><div style=\"display: table-cell;\"></div><div style=\"display: table-cell;\">min_border_left&nbsp;=&nbsp;None,</div></div><div class=\"1037\" style=\"display: none;\"><div style=\"display: table-cell;\"></div><div style=\"display: table-cell;\">min_border_right&nbsp;=&nbsp;None,</div></div><div class=\"1037\" style=\"display: none;\"><div style=\"display: table-cell;\"></div><div style=\"display: table-cell;\">min_border_top&nbsp;=&nbsp;None,</div></div><div class=\"1037\" style=\"display: none;\"><div style=\"display: table-cell;\"></div><div style=\"display: table-cell;\">min_height&nbsp;=&nbsp;None,</div></div><div class=\"1037\" style=\"display: none;\"><div style=\"display: table-cell;\"></div><div style=\"display: table-cell;\">min_width&nbsp;=&nbsp;None,</div></div><div class=\"1037\" style=\"display: none;\"><div style=\"display: table-cell;\"></div><div style=\"display: table-cell;\">name&nbsp;=&nbsp;None,</div></div><div class=\"1037\" style=\"display: none;\"><div style=\"display: table-cell;\"></div><div style=\"display: table-cell;\">outer_height&nbsp;=&nbsp;0,</div></div><div class=\"1037\" style=\"display: none;\"><div style=\"display: table-cell;\"></div><div style=\"display: table-cell;\">outer_width&nbsp;=&nbsp;0,</div></div><div class=\"1037\" style=\"display: none;\"><div style=\"display: table-cell;\"></div><div style=\"display: table-cell;\">outline_line_alpha&nbsp;=&nbsp;1.0,</div></div><div class=\"1037\" style=\"display: none;\"><div style=\"display: table-cell;\"></div><div style=\"display: table-cell;\">outline_line_cap&nbsp;=&nbsp;'butt',</div></div><div class=\"1037\" style=\"display: none;\"><div style=\"display: table-cell;\"></div><div style=\"display: table-cell;\">outline_line_color&nbsp;=&nbsp;'#e5e5e5',</div></div><div class=\"1037\" style=\"display: none;\"><div style=\"display: table-cell;\"></div><div style=\"display: table-cell;\">outline_line_dash&nbsp;=&nbsp;[],</div></div><div class=\"1037\" style=\"display: none;\"><div style=\"display: table-cell;\"></div><div style=\"display: table-cell;\">outline_line_dash_offset&nbsp;=&nbsp;0,</div></div><div class=\"1037\" style=\"display: none;\"><div style=\"display: table-cell;\"></div><div style=\"display: table-cell;\">outline_line_join&nbsp;=&nbsp;'bevel',</div></div><div class=\"1037\" style=\"display: none;\"><div style=\"display: table-cell;\"></div><div style=\"display: table-cell;\">outline_line_width&nbsp;=&nbsp;1,</div></div><div class=\"1037\" style=\"display: none;\"><div style=\"display: table-cell;\"></div><div style=\"display: table-cell;\">output_backend&nbsp;=&nbsp;'canvas',</div></div><div class=\"1037\" style=\"display: none;\"><div style=\"display: table-cell;\"></div><div style=\"display: table-cell;\">renderers&nbsp;=&nbsp;[GlyphRenderer(id='1035', ...)],</div></div><div class=\"1037\" style=\"display: none;\"><div style=\"display: table-cell;\"></div><div style=\"display: table-cell;\">reset_policy&nbsp;=&nbsp;'standard',</div></div><div class=\"1037\" style=\"display: none;\"><div style=\"display: table-cell;\"></div><div style=\"display: table-cell;\">right&nbsp;=&nbsp;[],</div></div><div class=\"1037\" style=\"display: none;\"><div style=\"display: table-cell;\"></div><div style=\"display: table-cell;\">sizing_mode&nbsp;=&nbsp;None,</div></div><div class=\"1037\" style=\"display: none;\"><div style=\"display: table-cell;\"></div><div style=\"display: table-cell;\">subscribed_events&nbsp;=&nbsp;[],</div></div><div class=\"1037\" style=\"display: none;\"><div style=\"display: table-cell;\"></div><div style=\"display: table-cell;\">syncable&nbsp;=&nbsp;True,</div></div><div class=\"1037\" style=\"display: none;\"><div style=\"display: table-cell;\"></div><div style=\"display: table-cell;\">tags&nbsp;=&nbsp;[],</div></div><div class=\"1037\" style=\"display: none;\"><div style=\"display: table-cell;\"></div><div style=\"display: table-cell;\">title&nbsp;=&nbsp;Title(id='1006', ...),</div></div><div class=\"1037\" style=\"display: none;\"><div style=\"display: table-cell;\"></div><div style=\"display: table-cell;\">title_location&nbsp;=&nbsp;'above',</div></div><div class=\"1037\" style=\"display: none;\"><div style=\"display: table-cell;\"></div><div style=\"display: table-cell;\">toolbar&nbsp;=&nbsp;Toolbar(id='1026', ...),</div></div><div class=\"1037\" style=\"display: none;\"><div style=\"display: table-cell;\"></div><div style=\"display: table-cell;\">toolbar_location&nbsp;=&nbsp;'right',</div></div><div class=\"1037\" style=\"display: none;\"><div style=\"display: table-cell;\"></div><div style=\"display: table-cell;\">toolbar_sticky&nbsp;=&nbsp;True,</div></div><div class=\"1037\" style=\"display: none;\"><div style=\"display: table-cell;\"></div><div style=\"display: table-cell;\">visible&nbsp;=&nbsp;True,</div></div><div class=\"1037\" style=\"display: none;\"><div style=\"display: table-cell;\"></div><div style=\"display: table-cell;\">width&nbsp;=&nbsp;600,</div></div><div class=\"1037\" style=\"display: none;\"><div style=\"display: table-cell;\"></div><div style=\"display: table-cell;\">width_policy&nbsp;=&nbsp;'auto',</div></div><div class=\"1037\" style=\"display: none;\"><div style=\"display: table-cell;\"></div><div style=\"display: table-cell;\">x_range&nbsp;=&nbsp;FactorRange(id='1008', ...),</div></div><div class=\"1037\" style=\"display: none;\"><div style=\"display: table-cell;\"></div><div style=\"display: table-cell;\">x_scale&nbsp;=&nbsp;CategoricalScale(id='1012', ...),</div></div><div class=\"1037\" style=\"display: none;\"><div style=\"display: table-cell;\"></div><div style=\"display: table-cell;\">y_range&nbsp;=&nbsp;Range1d(id='1010', ...),</div></div><div class=\"1037\" style=\"display: none;\"><div style=\"display: table-cell;\"></div><div style=\"display: table-cell;\">y_scale&nbsp;=&nbsp;LinearScale(id='1014', ...))</div></div></div>\n",
       "<script>\n",
       "(function() {\n",
       "  let expanded = false;\n",
       "  const ellipsis = document.getElementById(\"1038\");\n",
       "  ellipsis.addEventListener(\"click\", function() {\n",
       "    const rows = document.getElementsByClassName(\"1037\");\n",
       "    for (let i = 0; i < rows.length; i++) {\n",
       "      const el = rows[i];\n",
       "      el.style.display = expanded ? \"none\" : \"table-row\";\n",
       "    }\n",
       "    ellipsis.innerHTML = expanded ? \"&hellip;)\" : \"&lsaquo;&lsaquo;&lsaquo;\";\n",
       "    expanded = !expanded;\n",
       "  });\n",
       "})();\n",
       "</script>\n"
      ],
      "text/plain": [
       "Figure(id='1005', ...)"
      ]
     },
     "execution_count": 14,
     "metadata": {},
     "output_type": "execute_result"
    }
   ],
   "source": [
    "metadata(get_dataframe_info(df_customers),'Customers',10000)"
   ]
  },
  {
   "cell_type": "code",
   "execution_count": 15,
   "id": "4f6f97d1-169b-4acd-9de2-5ad230002828",
   "metadata": {},
   "outputs": [
    {
     "data": {
      "text/html": [
       "\n",
       "  <div class=\"bk-root\" id=\"95af5b87-9f14-471a-94de-433af368867c\" data-root-id=\"1144\"></div>\n"
      ]
     },
     "metadata": {},
     "output_type": "display_data"
    },
    {
     "data": {
      "application/javascript": "(function(root) {\n  function embed_document(root) {\n  const docs_json = {\"eb14cb9c-a29d-4b08-a4c8-493df4ed9988\":{\"defs\":[],\"roots\":{\"references\":[{\"attributes\":{\"children\":[{\"id\":\"1143\"},{\"id\":\"1142\"}]},\"id\":\"1144\",\"type\":\"Column\"},{\"attributes\":{},\"id\":\"1157\",\"type\":\"CategoricalTickFormatter\"},{\"attributes\":{},\"id\":\"1152\",\"type\":\"AllLabels\"},{\"attributes\":{},\"id\":\"1057\",\"type\":\"BasicTicker\"},{\"attributes\":{\"fill_alpha\":{\"value\":0.1},\"fill_color\":{\"value\":\"#1f77b4\"},\"hatch_alpha\":{\"value\":0.1},\"line_alpha\":{\"value\":0.1},\"line_color\":{\"value\":\"#1f77b4\"},\"top\":{\"field\":\"y\"},\"width\":{\"value\":0.9},\"x\":{\"field\":\"x\"}},\"id\":\"1104\",\"type\":\"VBar\"},{\"attributes\":{},\"id\":\"1158\",\"type\":\"AllLabels\"},{\"attributes\":{\"fill_color\":{\"value\":\"#1f77b4\"},\"line_color\":{\"value\":\"#1f77b4\"},\"top\":{\"field\":\"y\"},\"width\":{\"value\":0.9},\"x\":{\"field\":\"x\"}},\"id\":\"1069\",\"type\":\"VBar\"},{\"attributes\":{},\"id\":\"1091\",\"type\":\"BasicTicker\"},{\"attributes\":{},\"id\":\"1062\",\"type\":\"ResetTool\"},{\"attributes\":{\"axis\":{\"id\":\"1090\"},\"coordinates\":null,\"dimension\":1,\"group\":null,\"ticker\":null},\"id\":\"1093\",\"type\":\"Grid\"},{\"attributes\":{\"end\":10000},\"id\":\"1047\",\"type\":\"Range1d\"},{\"attributes\":{\"axis_label\":\"Nombre de m\\u00e9tadonn\\u00e9e\",\"coordinates\":null,\"formatter\":{\"id\":\"1154\"},\"group\":null,\"major_label_policy\":{\"id\":\"1155\"},\"ticker\":{\"id\":\"1091\"}},\"id\":\"1090\",\"type\":\"LinearAxis\"},{\"attributes\":{\"source\":{\"id\":\"1074\"}},\"id\":\"1107\",\"type\":\"CDSView\"},{\"attributes\":{},\"id\":\"1085\",\"type\":\"LinearScale\"},{\"attributes\":{},\"id\":\"1049\",\"type\":\"CategoricalScale\"},{\"attributes\":{\"coordinates\":null,\"data_source\":{\"id\":\"1074\"},\"glyph\":{\"id\":\"1103\"},\"group\":null,\"hover_glyph\":null,\"muted_glyph\":{\"id\":\"1105\"},\"nonselection_glyph\":{\"id\":\"1104\"},\"view\":{\"id\":\"1107\"}},\"id\":\"1106\",\"type\":\"GlyphRenderer\"},{\"attributes\":{\"fill_alpha\":{\"value\":0.2},\"fill_color\":{\"value\":\"#1f77b4\"},\"hatch_alpha\":{\"value\":0.2},\"line_alpha\":{\"value\":0.2},\"line_color\":{\"value\":\"#1f77b4\"},\"top\":{\"field\":\"y\"},\"width\":{\"value\":0.9},\"x\":{\"field\":\"x\"}},\"id\":\"1105\",\"type\":\"VBar\"},{\"attributes\":{\"tools\":[{\"id\":\"1041\"},{\"id\":\"1060\"},{\"id\":\"1061\"},{\"id\":\"1062\"}]},\"id\":\"1063\",\"type\":\"Toolbar\"},{\"attributes\":{\"axis\":{\"id\":\"1087\"},\"coordinates\":null,\"group\":null,\"ticker\":null},\"id\":\"1089\",\"type\":\"Grid\"},{\"attributes\":{},\"id\":\"1061\",\"type\":\"WheelZoomTool\"},{\"attributes\":{\"factors\":[\"id_prod\",\"price\",\"categ\"]},\"id\":\"1079\",\"type\":\"FactorRange\"},{\"attributes\":{\"fill_color\":{\"value\":\"#1f77b4\"},\"line_color\":{\"value\":\"#1f77b4\"},\"top\":{\"field\":\"y\"},\"width\":{\"value\":0.9},\"x\":{\"field\":\"x\"}},\"id\":\"1103\",\"type\":\"VBar\"},{\"attributes\":{},\"id\":\"1088\",\"type\":\"CategoricalTicker\"},{\"attributes\":{},\"id\":\"1159\",\"type\":\"UnionRenderers\"},{\"attributes\":{\"tools\":[{\"id\":\"1075\"},{\"id\":\"1094\"},{\"id\":\"1095\"},{\"id\":\"1096\"}]},\"id\":\"1097\",\"type\":\"Toolbar\"},{\"attributes\":{\"below\":[{\"id\":\"1087\"}],\"center\":[{\"id\":\"1089\"},{\"id\":\"1093\"}],\"left\":[{\"id\":\"1090\"}],\"renderers\":[{\"id\":\"1106\"}],\"title\":{\"id\":\"1077\"},\"toolbar\":{\"id\":\"1097\"},\"x_range\":{\"id\":\"1079\"},\"x_scale\":{\"id\":\"1083\"},\"y_range\":{\"id\":\"1081\"},\"y_scale\":{\"id\":\"1085\"}},\"id\":\"1076\",\"subtype\":\"Figure\",\"type\":\"Plot\"},{\"attributes\":{},\"id\":\"1083\",\"type\":\"CategoricalScale\"},{\"attributes\":{\"fill_alpha\":{\"value\":0.1},\"fill_color\":{\"value\":\"#1f77b4\"},\"hatch_alpha\":{\"value\":0.1},\"line_alpha\":{\"value\":0.1},\"line_color\":{\"value\":\"#1f77b4\"},\"top\":{\"field\":\"y\"},\"width\":{\"value\":0.9},\"x\":{\"field\":\"x\"}},\"id\":\"1070\",\"type\":\"VBar\"},{\"attributes\":{\"end\":10000},\"id\":\"1081\",\"type\":\"Range1d\"},{\"attributes\":{\"fill_alpha\":{\"value\":0.2},\"fill_color\":{\"value\":\"#1f77b4\"},\"hatch_alpha\":{\"value\":0.2},\"line_alpha\":{\"value\":0.2},\"line_color\":{\"value\":\"#1f77b4\"},\"top\":{\"field\":\"y\"},\"width\":{\"value\":0.9},\"x\":{\"field\":\"x\"}},\"id\":\"1071\",\"type\":\"VBar\"},{\"attributes\":{},\"id\":\"1160\",\"type\":\"Selection\"},{\"attributes\":{\"coordinates\":null,\"data_source\":{\"id\":\"1040\"},\"glyph\":{\"id\":\"1069\"},\"group\":null,\"hover_glyph\":null,\"muted_glyph\":{\"id\":\"1071\"},\"nonselection_glyph\":{\"id\":\"1070\"},\"view\":{\"id\":\"1073\"}},\"id\":\"1072\",\"type\":\"GlyphRenderer\"},{\"attributes\":{},\"id\":\"1148\",\"type\":\"BasicTickFormatter\"},{\"attributes\":{\"callback\":null,\"tooltips\":[[\"Colonne\",\"@x\"],[\"Nombre de valeurs\",\"@y\"],[\"type\",\"@types\"]]},\"id\":\"1075\",\"type\":\"HoverTool\"},{\"attributes\":{},\"id\":\"1054\",\"type\":\"CategoricalTicker\"},{\"attributes\":{\"source\":{\"id\":\"1040\"}},\"id\":\"1073\",\"type\":\"CDSView\"},{\"attributes\":{\"coordinates\":null,\"group\":null,\"text\":\"Customers\"},\"id\":\"1043\",\"type\":\"Title\"},{\"attributes\":{},\"id\":\"1161\",\"type\":\"UnionRenderers\"},{\"attributes\":{\"data\":{\"types\":[\"object\",\"float64\",\"int64\"],\"x\":[\"id_prod\",\"price\",\"categ\"],\"y\":[3287,3287,3287]},\"selected\":{\"id\":\"1162\"},\"selection_policy\":{\"id\":\"1161\"}},\"id\":\"1074\",\"type\":\"ColumnDataSource\"},{\"attributes\":{\"coordinates\":null,\"group\":null,\"text\":\"Products\"},\"id\":\"1077\",\"type\":\"Title\"},{\"attributes\":{},\"id\":\"1162\",\"type\":\"Selection\"},{\"attributes\":{},\"id\":\"1155\",\"type\":\"AllLabels\"},{\"attributes\":{\"children\":[{\"id\":\"1042\"},{\"id\":\"1076\"}]},\"id\":\"1142\",\"type\":\"Row\"},{\"attributes\":{\"data\":{\"types\":[\"object\",\"object\",\"int64\"],\"x\":[\"client_id\",\"sex\",\"birth\"],\"y\":[8623,8623,8623]},\"selected\":{\"id\":\"1160\"},\"selection_policy\":{\"id\":\"1159\"}},\"id\":\"1040\",\"type\":\"ColumnDataSource\"},{\"attributes\":{\"axis_label\":\"Nombre de m\\u00e9tadonn\\u00e9e\",\"coordinates\":null,\"formatter\":{\"id\":\"1148\"},\"group\":null,\"major_label_policy\":{\"id\":\"1149\"},\"ticker\":{\"id\":\"1057\"}},\"id\":\"1056\",\"type\":\"LinearAxis\"},{\"attributes\":{},\"id\":\"1151\",\"type\":\"CategoricalTickFormatter\"},{\"attributes\":{\"axis_label\":\"Nom de la m\\u00e9tadonn\\u00e9e\",\"coordinates\":null,\"formatter\":{\"id\":\"1151\"},\"group\":null,\"major_label_orientation\":0.7853981633974483,\"major_label_policy\":{\"id\":\"1152\"},\"ticker\":{\"id\":\"1054\"}},\"id\":\"1053\",\"type\":\"CategoricalAxis\"},{\"attributes\":{\"callback\":null,\"tooltips\":[[\"Colonne\",\"@x\"],[\"Nombre de valeurs\",\"@y\"],[\"type\",\"@types\"]]},\"id\":\"1041\",\"type\":\"HoverTool\"},{\"attributes\":{},\"id\":\"1149\",\"type\":\"AllLabels\"},{\"attributes\":{\"axis_label\":\"Nom de la m\\u00e9tadonn\\u00e9e\",\"coordinates\":null,\"formatter\":{\"id\":\"1157\"},\"group\":null,\"major_label_orientation\":0.7853981633974483,\"major_label_policy\":{\"id\":\"1158\"},\"ticker\":{\"id\":\"1088\"}},\"id\":\"1087\",\"type\":\"CategoricalAxis\"},{\"attributes\":{\"axis\":{\"id\":\"1053\"},\"coordinates\":null,\"group\":null,\"ticker\":null},\"id\":\"1055\",\"type\":\"Grid\"},{\"attributes\":{\"text\":\"<center><h2>M\\u00e9tadonn\\u00e9es</h2></center>\"},\"id\":\"1143\",\"type\":\"Div\"},{\"attributes\":{\"factors\":[\"client_id\",\"sex\",\"birth\"]},\"id\":\"1045\",\"type\":\"FactorRange\"},{\"attributes\":{},\"id\":\"1060\",\"type\":\"PanTool\"},{\"attributes\":{},\"id\":\"1154\",\"type\":\"BasicTickFormatter\"},{\"attributes\":{\"axis\":{\"id\":\"1056\"},\"coordinates\":null,\"dimension\":1,\"group\":null,\"ticker\":null},\"id\":\"1059\",\"type\":\"Grid\"},{\"attributes\":{},\"id\":\"1051\",\"type\":\"LinearScale\"},{\"attributes\":{\"below\":[{\"id\":\"1053\"}],\"center\":[{\"id\":\"1055\"},{\"id\":\"1059\"}],\"left\":[{\"id\":\"1056\"}],\"renderers\":[{\"id\":\"1072\"}],\"title\":{\"id\":\"1043\"},\"toolbar\":{\"id\":\"1063\"},\"x_range\":{\"id\":\"1045\"},\"x_scale\":{\"id\":\"1049\"},\"y_range\":{\"id\":\"1047\"},\"y_scale\":{\"id\":\"1051\"}},\"id\":\"1042\",\"subtype\":\"Figure\",\"type\":\"Plot\"},{\"attributes\":{},\"id\":\"1096\",\"type\":\"ResetTool\"},{\"attributes\":{},\"id\":\"1094\",\"type\":\"PanTool\"},{\"attributes\":{},\"id\":\"1095\",\"type\":\"WheelZoomTool\"}],\"root_ids\":[\"1144\"]},\"title\":\"Bokeh Application\",\"version\":\"2.4.3\"}};\n  const render_items = [{\"docid\":\"eb14cb9c-a29d-4b08-a4c8-493df4ed9988\",\"root_ids\":[\"1144\"],\"roots\":{\"1144\":\"95af5b87-9f14-471a-94de-433af368867c\"}}];\n  root.Bokeh.embed.embed_items_notebook(docs_json, render_items);\n  }\n  if (root.Bokeh !== undefined) {\n    embed_document(root);\n  } else {\n    let attempts = 0;\n    const timer = setInterval(function(root) {\n      if (root.Bokeh !== undefined) {\n        clearInterval(timer);\n        embed_document(root);\n      } else {\n        attempts++;\n        if (attempts > 100) {\n          clearInterval(timer);\n          console.log(\"Bokeh: ERROR: Unable to run BokehJS code because BokehJS library is missing\");\n        }\n      }\n    }, 10, root)\n  }\n})(window);",
      "application/vnd.bokehjs_exec.v0+json": ""
     },
     "metadata": {
      "application/vnd.bokehjs_exec.v0+json": {
       "id": "1144"
      }
     },
     "output_type": "display_data"
    },
    {
     "data": {
      "text/html": [
       "\n",
       "  <div class=\"bk-root\" id=\"53d2ea6b-dd84-43a3-a799-51910d022931\" data-root-id=\"1110\"></div>\n"
      ]
     },
     "metadata": {},
     "output_type": "display_data"
    },
    {
     "data": {
      "application/javascript": "(function(root) {\n  function embed_document(root) {\n  const docs_json = {\"0a3f75ef-5272-48eb-a55e-ac0a67a0bdec\":{\"defs\":[],\"roots\":{\"references\":[{\"attributes\":{\"below\":[{\"id\":\"1121\"}],\"center\":[{\"id\":\"1123\"},{\"id\":\"1127\"}],\"left\":[{\"id\":\"1124\"}],\"renderers\":[{\"id\":\"1140\"}],\"title\":{\"id\":\"1111\"},\"toolbar\":{\"id\":\"1131\"},\"x_range\":{\"id\":\"1113\"},\"x_scale\":{\"id\":\"1117\"},\"y_range\":{\"id\":\"1115\"},\"y_scale\":{\"id\":\"1119\"}},\"id\":\"1110\",\"subtype\":\"Figure\",\"type\":\"Plot\"},{\"attributes\":{\"axis_label\":\"Nom de la m\\u00e9tadonn\\u00e9e\",\"coordinates\":null,\"formatter\":{\"id\":\"1276\"},\"group\":null,\"major_label_orientation\":0.7853981633974483,\"major_label_policy\":{\"id\":\"1277\"},\"ticker\":{\"id\":\"1122\"}},\"id\":\"1121\",\"type\":\"CategoricalAxis\"},{\"attributes\":{\"coordinates\":null,\"group\":null,\"text\":\"Transactions\"},\"id\":\"1111\",\"type\":\"Title\"},{\"attributes\":{\"data\":{\"types\":[\"object\",\"object\",\"object\",\"object\"],\"x\":[\"id_prod\",\"date\",\"session_id\",\"client_id\"],\"y\":[679532,679532,679532,679532]},\"selected\":{\"id\":\"1279\"},\"selection_policy\":{\"id\":\"1278\"}},\"id\":\"1108\",\"type\":\"ColumnDataSource\"},{\"attributes\":{\"fill_alpha\":{\"value\":0.2},\"fill_color\":{\"value\":\"#1f77b4\"},\"hatch_alpha\":{\"value\":0.2},\"line_alpha\":{\"value\":0.2},\"line_color\":{\"value\":\"#1f77b4\"},\"top\":{\"field\":\"y\"},\"width\":{\"value\":0.9},\"x\":{\"field\":\"x\"}},\"id\":\"1139\",\"type\":\"VBar\"},{\"attributes\":{\"axis\":{\"id\":\"1124\"},\"coordinates\":null,\"dimension\":1,\"group\":null,\"ticker\":null},\"id\":\"1127\",\"type\":\"Grid\"},{\"attributes\":{\"coordinates\":null,\"data_source\":{\"id\":\"1108\"},\"glyph\":{\"id\":\"1137\"},\"group\":null,\"hover_glyph\":null,\"muted_glyph\":{\"id\":\"1139\"},\"nonselection_glyph\":{\"id\":\"1138\"},\"view\":{\"id\":\"1141\"}},\"id\":\"1140\",\"type\":\"GlyphRenderer\"},{\"attributes\":{\"fill_color\":{\"value\":\"#1f77b4\"},\"line_color\":{\"value\":\"#1f77b4\"},\"top\":{\"field\":\"y\"},\"width\":{\"value\":0.9},\"x\":{\"field\":\"x\"}},\"id\":\"1137\",\"type\":\"VBar\"},{\"attributes\":{},\"id\":\"1125\",\"type\":\"BasicTicker\"},{\"attributes\":{},\"id\":\"1129\",\"type\":\"WheelZoomTool\"},{\"attributes\":{},\"id\":\"1130\",\"type\":\"ResetTool\"},{\"attributes\":{},\"id\":\"1278\",\"type\":\"UnionRenderers\"},{\"attributes\":{},\"id\":\"1273\",\"type\":\"BasicTickFormatter\"},{\"attributes\":{},\"id\":\"1279\",\"type\":\"Selection\"},{\"attributes\":{},\"id\":\"1274\",\"type\":\"AllLabels\"},{\"attributes\":{},\"id\":\"1276\",\"type\":\"CategoricalTickFormatter\"},{\"attributes\":{\"callback\":null,\"tooltips\":[[\"Colonne\",\"@x\"],[\"Nombre de valeurs\",\"@y\"],[\"type\",\"@types\"]]},\"id\":\"1109\",\"type\":\"HoverTool\"},{\"attributes\":{},\"id\":\"1277\",\"type\":\"AllLabels\"},{\"attributes\":{\"tools\":[{\"id\":\"1109\"},{\"id\":\"1128\"},{\"id\":\"1129\"},{\"id\":\"1130\"}]},\"id\":\"1131\",\"type\":\"Toolbar\"},{\"attributes\":{\"end\":700000},\"id\":\"1115\",\"type\":\"Range1d\"},{\"attributes\":{\"source\":{\"id\":\"1108\"}},\"id\":\"1141\",\"type\":\"CDSView\"},{\"attributes\":{},\"id\":\"1119\",\"type\":\"LinearScale\"},{\"attributes\":{},\"id\":\"1128\",\"type\":\"PanTool\"},{\"attributes\":{\"axis\":{\"id\":\"1121\"},\"coordinates\":null,\"group\":null,\"ticker\":null},\"id\":\"1123\",\"type\":\"Grid\"},{\"attributes\":{},\"id\":\"1122\",\"type\":\"CategoricalTicker\"},{\"attributes\":{\"factors\":[\"id_prod\",\"date\",\"session_id\",\"client_id\"]},\"id\":\"1113\",\"type\":\"FactorRange\"},{\"attributes\":{\"axis_label\":\"Nombre de m\\u00e9tadonn\\u00e9e\",\"coordinates\":null,\"formatter\":{\"id\":\"1273\"},\"group\":null,\"major_label_policy\":{\"id\":\"1274\"},\"ticker\":{\"id\":\"1125\"}},\"id\":\"1124\",\"type\":\"LinearAxis\"},{\"attributes\":{},\"id\":\"1117\",\"type\":\"CategoricalScale\"},{\"attributes\":{\"fill_alpha\":{\"value\":0.1},\"fill_color\":{\"value\":\"#1f77b4\"},\"hatch_alpha\":{\"value\":0.1},\"line_alpha\":{\"value\":0.1},\"line_color\":{\"value\":\"#1f77b4\"},\"top\":{\"field\":\"y\"},\"width\":{\"value\":0.9},\"x\":{\"field\":\"x\"}},\"id\":\"1138\",\"type\":\"VBar\"}],\"root_ids\":[\"1110\"]},\"title\":\"Bokeh Application\",\"version\":\"2.4.3\"}};\n  const render_items = [{\"docid\":\"0a3f75ef-5272-48eb-a55e-ac0a67a0bdec\",\"root_ids\":[\"1110\"],\"roots\":{\"1110\":\"53d2ea6b-dd84-43a3-a799-51910d022931\"}}];\n  root.Bokeh.embed.embed_items_notebook(docs_json, render_items);\n  }\n  if (root.Bokeh !== undefined) {\n    embed_document(root);\n  } else {\n    let attempts = 0;\n    const timer = setInterval(function(root) {\n      if (root.Bokeh !== undefined) {\n        clearInterval(timer);\n        embed_document(root);\n      } else {\n        attempts++;\n        if (attempts > 100) {\n          clearInterval(timer);\n          console.log(\"Bokeh: ERROR: Unable to run BokehJS code because BokehJS library is missing\");\n        }\n      }\n    }, 10, root)\n  }\n})(window);",
      "application/vnd.bokehjs_exec.v0+json": ""
     },
     "metadata": {
      "application/vnd.bokehjs_exec.v0+json": {
       "id": "1110"
      }
     },
     "output_type": "display_data"
    }
   ],
   "source": [
    "graph_customers=metadata(get_dataframe_info(df_customers),'Customers',10000)\n",
    "graph_products=metadata(get_dataframe_info(df_products),'Products',10000)\n",
    "graph_transaction=metadata(get_dataframe_info(df_transactions),'Transactions',700000)\n",
    "plot=row(graph_customers,graph_products)\n",
    "show(column(Div(text=\"<center><h2>Métadonnées</h2></center>\"),plot))\n",
    "show(graph_transaction)  "
   ]
  },
  {
   "cell_type": "markdown",
   "id": "be92c01d-866e-4996-b413-3cb25050466c",
   "metadata": {},
   "source": [
    "### Etude sur les clés"
   ]
  },
  {
   "cell_type": "code",
   "execution_count": 16,
   "id": "81cacafa-3ef8-4f90-ad1d-a3c30a4311c7",
   "metadata": {},
   "outputs": [],
   "source": [
    "def checkIfDuplicates_1(listOfElems):\n",
    "    ''' Check if given list contains any duplicates '''\n",
    "    if len(listOfElems) == len(set(listOfElems)):\n",
    "        return False\n",
    "    else:\n",
    "        return True"
   ]
  },
  {
   "cell_type": "code",
   "execution_count": 17,
   "id": "d6512eca-d4ac-424c-9331-dbbc15fd2b57",
   "metadata": {},
   "outputs": [],
   "source": [
    "def iskeyunique(df,col,name):\n",
    "    \"\"\"Function checking if all keys are unique\n",
    "    Input:\n",
    "        df -> DataFrame\n",
    "        col -> Name of the column containing the keys (str)\n",
    "        name -> Name of the table (str)\n",
    "    \"\"\"\n",
    "    keys_vc=df[col].value_counts().tolist()\n",
    "    keys=df[col].tolist()\n",
    "    #verify duplicates\n",
    "    check_duplicates=checkIfDuplicates_1(keys)\n",
    "    \n",
    "    if check_duplicates==True:\n",
    "        print(\"Les valeurs de la colonne \"+color.BOLD+color.BLUE+\"{}\".format(col)+color.END+\" de la table \"+color.BOLD+color.BLUE+\"{}\".format(name)+color.END+\" \"+color.BOLD+color.RED+\"ne sont pas uniques\"+color.END)\n",
    "    else:\n",
    "        print(\"Les valeurs de la colonne \"+color.BOLD+color.BLUE+\"{}\".format(col)+color.END+\" de la table \"+color.BOLD+color.BLUE+\"{}\".format(name)+color.END+\" \"+color.BOLD+color.GREEN+\"sont uniques\"+color.END)\n",
    "\n",
    "    #count value\n",
    "    valuecount=len(keys_vc)\n",
    "    print(\"La colonne {} possède {} valeurs unique pour un total de {} valeurs\".format(col,valuecount,sum(keys_vc)))"
   ]
  },
  {
   "cell_type": "code",
   "execution_count": 18,
   "id": "e92f40e1-47d2-4572-a11a-3c6d3517b7bc",
   "metadata": {},
   "outputs": [
    {
     "name": "stdout",
     "output_type": "stream",
     "text": [
      "Les valeurs de la colonne \u001b[1m\u001b[94mclient_id\u001b[0m de la table \u001b[1m\u001b[94mCustomers\u001b[0m \u001b[1m\u001b[92msont uniques\u001b[0m\n",
      "La colonne client_id possède 8623 valeurs unique pour un total de 8623 valeurs\n",
      "\n",
      "Les valeurs de la colonne \u001b[1m\u001b[94mid_prod\u001b[0m de la table \u001b[1m\u001b[94mProducts\u001b[0m \u001b[1m\u001b[92msont uniques\u001b[0m\n",
      "La colonne id_prod possède 3287 valeurs unique pour un total de 3287 valeurs\n",
      "\n",
      "Les valeurs de la colonne \u001b[1m\u001b[94mcateg\u001b[0m de la table \u001b[1m\u001b[94mProducts\u001b[0m \u001b[1m\u001b[91mne sont pas uniques\u001b[0m\n",
      "La colonne categ possède 3 valeurs unique pour un total de 3287 valeurs\n",
      "\n",
      "Les valeurs de la colonne \u001b[1m\u001b[94msession_id\u001b[0m de la table \u001b[1m\u001b[94mTransaction\u001b[0m \u001b[1m\u001b[91mne sont pas uniques\u001b[0m\n",
      "La colonne session_id possède 342316 valeurs unique pour un total de 679532 valeurs\n",
      "\n",
      "Les valeurs de la colonne \u001b[1m\u001b[94mid_prod\u001b[0m de la table \u001b[1m\u001b[94mTransaction\u001b[0m \u001b[1m\u001b[91mne sont pas uniques\u001b[0m\n",
      "La colonne id_prod possède 3267 valeurs unique pour un total de 679532 valeurs\n",
      "\n",
      "Les valeurs de la colonne \u001b[1m\u001b[94mclient_id\u001b[0m de la table \u001b[1m\u001b[94mTransaction\u001b[0m \u001b[1m\u001b[91mne sont pas uniques\u001b[0m\n",
      "La colonne client_id possède 8602 valeurs unique pour un total de 679532 valeurs\n"
     ]
    }
   ],
   "source": [
    "iskeyunique(df_customers,'client_id','Customers')\n",
    "print()\n",
    "iskeyunique(df_products,'id_prod','Products')\n",
    "print()\n",
    "iskeyunique(df_products,'categ','Products')\n",
    "print()\n",
    "iskeyunique(df_transactions,'session_id','Transaction')\n",
    "print()\n",
    "iskeyunique(df_transactions,'id_prod','Transaction')\n",
    "print()\n",
    "iskeyunique(df_transactions,'client_id','Transaction')"
   ]
  },
  {
   "cell_type": "markdown",
   "id": "77ce80a7-d51f-4306-a36c-de3c060cc8a1",
   "metadata": {},
   "source": [
    "### <u> Conclusion :</u>"
   ]
  },
  {
   "cell_type": "markdown",
   "id": "e5660d01-0cb0-46b8-8d8b-6e34f3920f64",
   "metadata": {},
   "source": [
    "Les Tables *Customers* et *Products* observent chacune une unicité au niveau des clés : chaque lignes est unique. En revanche, ce n'est pas le cas pour la table *Transaction*.  \n",
    "  \n",
    "Pour cette dernière, plusieurs choses peuvent-être remarquées:  \n",
    "- La colonne *id_prod* de la table *Transaction* possède $3267$ valeurs unique contre $3287$ dans la table *Products*. Nous avons donc $20$ produits qui ne se retrouvent pas dans les ventes. Il conviendra alors d'identifier ces produits.\n",
    "- La colonne *client_id* de la table *Transaction* possède $8602$ valeurs unique contre $8623$ dans la table *Customers*. Nous avons ici $21$ clients qui ne se retrouvent pas dans les ventes. Nous les identiefierons aussi.\n",
    "- Concernant la colonne *session_id* il va falloir faire une analyse plus poussé. Une première remarque: $\\frac{V_{Unique}}{V_{Total}}=\\frac{342316}{679532}=1.99$  \n",
    "Le résultat est proche de 2 et peut suggérer que quasiment toutes les clés sont en double."
   ]
  },
  {
   "cell_type": "markdown",
   "id": "9f4f2191-aaca-4e13-9c17-1a017f365fe0",
   "metadata": {},
   "source": [
    "# Analyse de la table *Transactions*"
   ]
  },
  {
   "cell_type": "code",
   "execution_count": 19,
   "id": "40f97297-c2c5-4605-9478-c622045214b2",
   "metadata": {},
   "outputs": [
    {
     "data": {
      "text/html": [
       "<div>\n",
       "<style scoped>\n",
       "    .dataframe tbody tr th:only-of-type {\n",
       "        vertical-align: middle;\n",
       "    }\n",
       "\n",
       "    .dataframe tbody tr th {\n",
       "        vertical-align: top;\n",
       "    }\n",
       "\n",
       "    .dataframe thead th {\n",
       "        text-align: right;\n",
       "    }\n",
       "</style>\n",
       "<table border=\"1\" class=\"dataframe\">\n",
       "  <thead>\n",
       "    <tr style=\"text-align: right;\">\n",
       "      <th></th>\n",
       "      <th>id_prod</th>\n",
       "      <th>date</th>\n",
       "      <th>session_id</th>\n",
       "      <th>client_id</th>\n",
       "    </tr>\n",
       "  </thead>\n",
       "  <tbody>\n",
       "    <tr>\n",
       "      <th>0</th>\n",
       "      <td>0_1518</td>\n",
       "      <td>2022-05-20 13:21:29.043970</td>\n",
       "      <td>s_211425</td>\n",
       "      <td>c_103</td>\n",
       "    </tr>\n",
       "    <tr>\n",
       "      <th>448454</th>\n",
       "      <td>1_271</td>\n",
       "      <td>2022-05-20 13:21:10.122134</td>\n",
       "      <td>s_211425</td>\n",
       "      <td>c_103</td>\n",
       "    </tr>\n",
       "  </tbody>\n",
       "</table>\n",
       "</div>"
      ],
      "text/plain": [
       "       id_prod                        date session_id client_id\n",
       "0       0_1518  2022-05-20 13:21:29.043970   s_211425     c_103\n",
       "448454   1_271  2022-05-20 13:21:10.122134   s_211425     c_103"
      ]
     },
     "execution_count": 19,
     "metadata": {},
     "output_type": "execute_result"
    }
   ],
   "source": [
    "df_transactions[df_transactions['session_id']=='s_211425']"
   ]
  },
  {
   "cell_type": "markdown",
   "id": "1d4340d2-5e5d-4c30-b170-728920ee9782",
   "metadata": {},
   "source": [
    "Ici, un id de session est multiplié par le nombre de produits acheté pendant cette session."
   ]
  },
  {
   "cell_type": "code",
   "execution_count": 20,
   "id": "45bea0bb-820d-4431-bf89-9f2caed8849d",
   "metadata": {},
   "outputs": [
    {
     "data": {
      "text/html": [
       "<div>\n",
       "<style scoped>\n",
       "    .dataframe tbody tr th:only-of-type {\n",
       "        vertical-align: middle;\n",
       "    }\n",
       "\n",
       "    .dataframe tbody tr th {\n",
       "        vertical-align: top;\n",
       "    }\n",
       "\n",
       "    .dataframe thead th {\n",
       "        text-align: right;\n",
       "    }\n",
       "</style>\n",
       "<table border=\"1\" class=\"dataframe\">\n",
       "  <thead>\n",
       "    <tr style=\"text-align: right;\">\n",
       "      <th></th>\n",
       "      <th>id_prod</th>\n",
       "      <th>date</th>\n",
       "      <th>client_id</th>\n",
       "    </tr>\n",
       "    <tr>\n",
       "      <th>session_id</th>\n",
       "      <th></th>\n",
       "      <th></th>\n",
       "      <th></th>\n",
       "    </tr>\n",
       "  </thead>\n",
       "  <tbody>\n",
       "    <tr>\n",
       "      <th>s_0</th>\n",
       "      <td>T_0;T_0;T_0;T_0;T_0;T_0;T_0;T_0;T_0;T_0;T_0;T_...</td>\n",
       "      <td>test_2021-03-01 02:30:02.237419;test_2021-03-0...</td>\n",
       "      <td>ct_0;ct_0;ct_1;ct_0;ct_0;ct_0;ct_1;ct_0;ct_1;c...</td>\n",
       "    </tr>\n",
       "    <tr>\n",
       "      <th>s_1</th>\n",
       "      <td>0_1259</td>\n",
       "      <td>2021-03-01 00:01:07.843138</td>\n",
       "      <td>c_329</td>\n",
       "    </tr>\n",
       "    <tr>\n",
       "      <th>s_10</th>\n",
       "      <td>1_635</td>\n",
       "      <td>2021-03-01 00:10:33.163037</td>\n",
       "      <td>c_2218</td>\n",
       "    </tr>\n",
       "    <tr>\n",
       "      <th>s_100</th>\n",
       "      <td>0_1030;0_1451</td>\n",
       "      <td>2021-03-01 04:12:43.572994;2021-03-01 04:43:58...</td>\n",
       "      <td>c_3854;c_3854</td>\n",
       "    </tr>\n",
       "    <tr>\n",
       "      <th>s_1000</th>\n",
       "      <td>0_1438;0_1625;0_1590;0_1449</td>\n",
       "      <td>2021-03-03 03:25:12.320225;2021-03-03 02:38:09...</td>\n",
       "      <td>c_1014;c_1014;c_1014;c_1014</td>\n",
       "    </tr>\n",
       "    <tr>\n",
       "      <th>...</th>\n",
       "      <td>...</td>\n",
       "      <td>...</td>\n",
       "      <td>...</td>\n",
       "    </tr>\n",
       "    <tr>\n",
       "      <th>s_99994</th>\n",
       "      <td>0_2060;0_1636;0_1407</td>\n",
       "      <td>2021-10-04 18:34:24.208113;2021-10-04 18:56:23...</td>\n",
       "      <td>c_7685;c_7685;c_7685</td>\n",
       "    </tr>\n",
       "    <tr>\n",
       "      <th>s_99995</th>\n",
       "      <td>0_1784</td>\n",
       "      <td>2021-10-04 18:35:32.201073</td>\n",
       "      <td>c_4170</td>\n",
       "    </tr>\n",
       "    <tr>\n",
       "      <th>s_99996</th>\n",
       "      <td>0_2231;0_1475;0_1362;0_1609</td>\n",
       "      <td>2021-10-04 18:38:36.333661;2021-10-04 18:45:05...</td>\n",
       "      <td>c_4900;c_4900;c_4900;c_4900</td>\n",
       "    </tr>\n",
       "    <tr>\n",
       "      <th>s_99997</th>\n",
       "      <td>0_1197</td>\n",
       "      <td>2021-10-04 18:45:38.003516</td>\n",
       "      <td>c_3521</td>\n",
       "    </tr>\n",
       "    <tr>\n",
       "      <th>s_99998</th>\n",
       "      <td>0_1411;0_1604;0_1572</td>\n",
       "      <td>2021-10-04 18:50:59.099942;2021-10-04 19:00:20...</td>\n",
       "      <td>c_2795;c_2795;c_2795</td>\n",
       "    </tr>\n",
       "  </tbody>\n",
       "</table>\n",
       "<p>342316 rows × 3 columns</p>\n",
       "</div>"
      ],
      "text/plain": [
       "                                                      id_prod  \\\n",
       "session_id                                                      \n",
       "s_0         T_0;T_0;T_0;T_0;T_0;T_0;T_0;T_0;T_0;T_0;T_0;T_...   \n",
       "s_1                                                    0_1259   \n",
       "s_10                                                    1_635   \n",
       "s_100                                           0_1030;0_1451   \n",
       "s_1000                            0_1438;0_1625;0_1590;0_1449   \n",
       "...                                                       ...   \n",
       "s_99994                                  0_2060;0_1636;0_1407   \n",
       "s_99995                                                0_1784   \n",
       "s_99996                           0_2231;0_1475;0_1362;0_1609   \n",
       "s_99997                                                0_1197   \n",
       "s_99998                                  0_1411;0_1604;0_1572   \n",
       "\n",
       "                                                         date  \\\n",
       "session_id                                                      \n",
       "s_0         test_2021-03-01 02:30:02.237419;test_2021-03-0...   \n",
       "s_1                                2021-03-01 00:01:07.843138   \n",
       "s_10                               2021-03-01 00:10:33.163037   \n",
       "s_100       2021-03-01 04:12:43.572994;2021-03-01 04:43:58...   \n",
       "s_1000      2021-03-03 03:25:12.320225;2021-03-03 02:38:09...   \n",
       "...                                                       ...   \n",
       "s_99994     2021-10-04 18:34:24.208113;2021-10-04 18:56:23...   \n",
       "s_99995                            2021-10-04 18:35:32.201073   \n",
       "s_99996     2021-10-04 18:38:36.333661;2021-10-04 18:45:05...   \n",
       "s_99997                            2021-10-04 18:45:38.003516   \n",
       "s_99998     2021-10-04 18:50:59.099942;2021-10-04 19:00:20...   \n",
       "\n",
       "                                                    client_id  \n",
       "session_id                                                     \n",
       "s_0         ct_0;ct_0;ct_1;ct_0;ct_0;ct_0;ct_1;ct_0;ct_1;c...  \n",
       "s_1                                                     c_329  \n",
       "s_10                                                   c_2218  \n",
       "s_100                                           c_3854;c_3854  \n",
       "s_1000                            c_1014;c_1014;c_1014;c_1014  \n",
       "...                                                       ...  \n",
       "s_99994                                  c_7685;c_7685;c_7685  \n",
       "s_99995                                                c_4170  \n",
       "s_99996                           c_4900;c_4900;c_4900;c_4900  \n",
       "s_99997                                                c_3521  \n",
       "s_99998                                  c_2795;c_2795;c_2795  \n",
       "\n",
       "[342316 rows x 3 columns]"
      ]
     },
     "execution_count": 20,
     "metadata": {},
     "output_type": "execute_result"
    }
   ],
   "source": [
    "df_transactions.groupby(by='session_id').agg(lambda x:';'.join(x))"
   ]
  },
  {
   "cell_type": "code",
   "execution_count": 21,
   "id": "ebd0628b-704a-4fb4-ac69-b25486722204",
   "metadata": {},
   "outputs": [
    {
     "data": {
      "text/html": [
       "<div>\n",
       "<style scoped>\n",
       "    .dataframe tbody tr th:only-of-type {\n",
       "        vertical-align: middle;\n",
       "    }\n",
       "\n",
       "    .dataframe tbody tr th {\n",
       "        vertical-align: top;\n",
       "    }\n",
       "\n",
       "    .dataframe thead th {\n",
       "        text-align: right;\n",
       "    }\n",
       "</style>\n",
       "<table border=\"1\" class=\"dataframe\">\n",
       "  <thead>\n",
       "    <tr style=\"text-align: right;\">\n",
       "      <th></th>\n",
       "      <th>id_prod</th>\n",
       "      <th>date</th>\n",
       "      <th>session_id</th>\n",
       "      <th>client_id</th>\n",
       "    </tr>\n",
       "  </thead>\n",
       "  <tbody>\n",
       "    <tr>\n",
       "      <th>3019</th>\n",
       "      <td>T_0</td>\n",
       "      <td>test_2021-03-01 02:30:02.237419</td>\n",
       "      <td>s_0</td>\n",
       "      <td>ct_0</td>\n",
       "    </tr>\n",
       "    <tr>\n",
       "      <th>5138</th>\n",
       "      <td>T_0</td>\n",
       "      <td>test_2021-03-01 02:30:02.237425</td>\n",
       "      <td>s_0</td>\n",
       "      <td>ct_0</td>\n",
       "    </tr>\n",
       "    <tr>\n",
       "      <th>9668</th>\n",
       "      <td>T_0</td>\n",
       "      <td>test_2021-03-01 02:30:02.237437</td>\n",
       "      <td>s_0</td>\n",
       "      <td>ct_1</td>\n",
       "    </tr>\n",
       "    <tr>\n",
       "      <th>10728</th>\n",
       "      <td>T_0</td>\n",
       "      <td>test_2021-03-01 02:30:02.237436</td>\n",
       "      <td>s_0</td>\n",
       "      <td>ct_0</td>\n",
       "    </tr>\n",
       "    <tr>\n",
       "      <th>15292</th>\n",
       "      <td>T_0</td>\n",
       "      <td>test_2021-03-01 02:30:02.237430</td>\n",
       "      <td>s_0</td>\n",
       "      <td>ct_0</td>\n",
       "    </tr>\n",
       "    <tr>\n",
       "      <th>...</th>\n",
       "      <td>...</td>\n",
       "      <td>...</td>\n",
       "      <td>...</td>\n",
       "      <td>...</td>\n",
       "    </tr>\n",
       "    <tr>\n",
       "      <th>657830</th>\n",
       "      <td>T_0</td>\n",
       "      <td>test_2021-03-01 02:30:02.237417</td>\n",
       "      <td>s_0</td>\n",
       "      <td>ct_0</td>\n",
       "    </tr>\n",
       "    <tr>\n",
       "      <th>662081</th>\n",
       "      <td>T_0</td>\n",
       "      <td>test_2021-03-01 02:30:02.237427</td>\n",
       "      <td>s_0</td>\n",
       "      <td>ct_1</td>\n",
       "    </tr>\n",
       "    <tr>\n",
       "      <th>670680</th>\n",
       "      <td>T_0</td>\n",
       "      <td>test_2021-03-01 02:30:02.237449</td>\n",
       "      <td>s_0</td>\n",
       "      <td>ct_1</td>\n",
       "    </tr>\n",
       "    <tr>\n",
       "      <th>671647</th>\n",
       "      <td>T_0</td>\n",
       "      <td>test_2021-03-01 02:30:02.237424</td>\n",
       "      <td>s_0</td>\n",
       "      <td>ct_1</td>\n",
       "    </tr>\n",
       "    <tr>\n",
       "      <th>679180</th>\n",
       "      <td>T_0</td>\n",
       "      <td>test_2021-03-01 02:30:02.237425</td>\n",
       "      <td>s_0</td>\n",
       "      <td>ct_1</td>\n",
       "    </tr>\n",
       "  </tbody>\n",
       "</table>\n",
       "<p>200 rows × 4 columns</p>\n",
       "</div>"
      ],
      "text/plain": [
       "       id_prod                             date session_id client_id\n",
       "3019       T_0  test_2021-03-01 02:30:02.237419        s_0      ct_0\n",
       "5138       T_0  test_2021-03-01 02:30:02.237425        s_0      ct_0\n",
       "9668       T_0  test_2021-03-01 02:30:02.237437        s_0      ct_1\n",
       "10728      T_0  test_2021-03-01 02:30:02.237436        s_0      ct_0\n",
       "15292      T_0  test_2021-03-01 02:30:02.237430        s_0      ct_0\n",
       "...        ...                              ...        ...       ...\n",
       "657830     T_0  test_2021-03-01 02:30:02.237417        s_0      ct_0\n",
       "662081     T_0  test_2021-03-01 02:30:02.237427        s_0      ct_1\n",
       "670680     T_0  test_2021-03-01 02:30:02.237449        s_0      ct_1\n",
       "671647     T_0  test_2021-03-01 02:30:02.237424        s_0      ct_1\n",
       "679180     T_0  test_2021-03-01 02:30:02.237425        s_0      ct_1\n",
       "\n",
       "[200 rows x 4 columns]"
      ]
     },
     "execution_count": 21,
     "metadata": {},
     "output_type": "execute_result"
    }
   ],
   "source": [
    "df_session_test=df_transactions[df_transactions['session_id']=='s_0']\n",
    "df_session_test"
   ]
  },
  {
   "cell_type": "code",
   "execution_count": 22,
   "id": "3bbb7c93",
   "metadata": {},
   "outputs": [
    {
     "data": {
      "text/html": [
       "<div>\n",
       "<style scoped>\n",
       "    .dataframe tbody tr th:only-of-type {\n",
       "        vertical-align: middle;\n",
       "    }\n",
       "\n",
       "    .dataframe tbody tr th {\n",
       "        vertical-align: top;\n",
       "    }\n",
       "\n",
       "    .dataframe thead th {\n",
       "        text-align: right;\n",
       "    }\n",
       "</style>\n",
       "<table border=\"1\" class=\"dataframe\">\n",
       "  <thead>\n",
       "    <tr style=\"text-align: right;\">\n",
       "      <th></th>\n",
       "      <th>id_prod</th>\n",
       "      <th>price</th>\n",
       "      <th>categ</th>\n",
       "    </tr>\n",
       "  </thead>\n",
       "  <tbody>\n",
       "    <tr>\n",
       "      <th>731</th>\n",
       "      <td>T_0</td>\n",
       "      <td>-1.0</td>\n",
       "      <td>0</td>\n",
       "    </tr>\n",
       "  </tbody>\n",
       "</table>\n",
       "</div>"
      ],
      "text/plain": [
       "    id_prod  price  categ\n",
       "731     T_0   -1.0      0"
      ]
     },
     "execution_count": 22,
     "metadata": {},
     "output_type": "execute_result"
    }
   ],
   "source": [
    "df_products[df_products['id_prod']=='T_0']"
   ]
  },
  {
   "cell_type": "markdown",
   "id": "0365f71a",
   "metadata": {},
   "source": [
    "La session *s_0* est une session qui sert à faire des test. Il va nous falloir supprimer cette ligne pour ne pas fausser notre analyse"
   ]
  },
  {
   "cell_type": "markdown",
   "id": "5bc89700",
   "metadata": {},
   "source": [
    "## Comparaison de la clé *id_prod* entre la table **Transaction** et la table **Produit**"
   ]
  },
  {
   "cell_type": "markdown",
   "id": "97e26a43",
   "metadata": {},
   "source": [
    "La fonction suivante va nous permettre de comparer les clés entre deux tables"
   ]
  },
  {
   "cell_type": "code",
   "execution_count": 23,
   "id": "ce00392a-72b6-4ed1-af03-8326483ba6b4",
   "metadata": {},
   "outputs": [],
   "source": [
    "def compareID(listA,listB,namecol,nameA='ListA',nameB='ListB'):\n",
    "    \"\"\"Compare ID in two list. \n",
    "    Input:\n",
    "        listA -> List\n",
    "        listB -> List\n",
    "        namecol -> Name of the Dataframe's column (str)\n",
    "        nameA -> Name of the first list (str)\n",
    "        nameB -> Name of the second list (str)\n",
    "    Output:\n",
    "        print #ID in listA wich are not in listB will be returned.\n",
    "        print #ID in listB wich are not in listA will be returned\n",
    "    \"\"\"\n",
    "    compareA=[]\n",
    "    compareB=[]\n",
    "    for el in listA:\n",
    "        if el not in listB:\n",
    "            compareA.append(el)\n",
    "    for el in listB:\n",
    "        if el not in listA:\n",
    "            compareB.append(el)\n",
    "            \n",
    "    #remove duplicates\n",
    "    compareA = list(set(compareA))\n",
    "    compareB = list(set(compareB))\n",
    "            \n",
    "    print(color.BOLD+color.BLUE+'{}'.format(nameA)+color.END+' possède '+color.BOLD+color.RED+'{}'.format(len(compareA))+' {}'.format(namecol)+color.END+' qui ne se retrouve pas dans '+color.BOLD+color.BLUE+'{}'.format(nameB)+color.END)\n",
    "    print(color.BOLD+color.BLUE+'{}'.format(nameB)+color.END+' possède '+color.BOLD+color.RED+'{}'.format(len(compareB))+' {}'.format(namecol)+color.END+' qui ne se retrouve pas dans '+color.BOLD+color.BLUE+'{}'.format(nameA)+color.END)\n",
    "    \n",
    "    return compareA,compareB   "
   ]
  },
  {
   "cell_type": "code",
   "execution_count": 24,
   "id": "62a2afca-61b4-485e-a403-cbd175dedf71",
   "metadata": {},
   "outputs": [
    {
     "name": "stdout",
     "output_type": "stream",
     "text": [
      "\u001b[1m\u001b[94mTransaction\u001b[0m possède \u001b[1m\u001b[91m1 id_prod\u001b[0m qui ne se retrouve pas dans \u001b[1m\u001b[94mProducts\u001b[0m\n",
      "\u001b[1m\u001b[94mProducts\u001b[0m possède \u001b[1m\u001b[91m21 id_prod\u001b[0m qui ne se retrouve pas dans \u001b[1m\u001b[94mTransaction\u001b[0m\n"
     ]
    }
   ],
   "source": [
    "transaid_notin_prod,productid_notin_transa=compareID(df_transactions['id_prod'].tolist(),df_products['id_prod'].tolist(),'id_prod','Transaction','Products')"
   ]
  },
  {
   "cell_type": "markdown",
   "id": "f417d9c3",
   "metadata": {},
   "source": [
    "### Analyse du premier cas"
   ]
  },
  {
   "cell_type": "code",
   "execution_count": 25,
   "id": "edee04c1-945c-41ff-bb4d-3b3981891c05",
   "metadata": {},
   "outputs": [
    {
     "data": {
      "text/plain": [
       "['0_2245']"
      ]
     },
     "execution_count": 25,
     "metadata": {},
     "output_type": "execute_result"
    }
   ],
   "source": [
    "transaid_notin_prod"
   ]
  },
  {
   "cell_type": "code",
   "execution_count": 26,
   "id": "27be46f5",
   "metadata": {},
   "outputs": [
    {
     "data": {
      "text/html": [
       "<div>\n",
       "<style scoped>\n",
       "    .dataframe tbody tr th:only-of-type {\n",
       "        vertical-align: middle;\n",
       "    }\n",
       "\n",
       "    .dataframe tbody tr th {\n",
       "        vertical-align: top;\n",
       "    }\n",
       "\n",
       "    .dataframe thead th {\n",
       "        text-align: right;\n",
       "    }\n",
       "</style>\n",
       "<table border=\"1\" class=\"dataframe\">\n",
       "  <thead>\n",
       "    <tr style=\"text-align: right;\">\n",
       "      <th></th>\n",
       "      <th>id_prod</th>\n",
       "      <th>date</th>\n",
       "      <th>session_id</th>\n",
       "      <th>client_id</th>\n",
       "    </tr>\n",
       "  </thead>\n",
       "  <tbody>\n",
       "    <tr>\n",
       "      <th>2633</th>\n",
       "      <td>0_2245</td>\n",
       "      <td>2022-09-23 07:22:38.636773</td>\n",
       "      <td>s_272266</td>\n",
       "      <td>c_4746</td>\n",
       "    </tr>\n",
       "    <tr>\n",
       "      <th>10106</th>\n",
       "      <td>0_2245</td>\n",
       "      <td>2022-07-23 09:24:14.133889</td>\n",
       "      <td>s_242482</td>\n",
       "      <td>c_6713</td>\n",
       "    </tr>\n",
       "    <tr>\n",
       "      <th>11727</th>\n",
       "      <td>0_2245</td>\n",
       "      <td>2022-12-03 03:26:35.696673</td>\n",
       "      <td>s_306338</td>\n",
       "      <td>c_5108</td>\n",
       "    </tr>\n",
       "    <tr>\n",
       "      <th>15675</th>\n",
       "      <td>0_2245</td>\n",
       "      <td>2021-08-16 11:33:25.481411</td>\n",
       "      <td>s_76493</td>\n",
       "      <td>c_1391</td>\n",
       "    </tr>\n",
       "    <tr>\n",
       "      <th>16377</th>\n",
       "      <td>0_2245</td>\n",
       "      <td>2022-07-16 05:53:01.627491</td>\n",
       "      <td>s_239078</td>\n",
       "      <td>c_7954</td>\n",
       "    </tr>\n",
       "    <tr>\n",
       "      <th>...</th>\n",
       "      <td>...</td>\n",
       "      <td>...</td>\n",
       "      <td>...</td>\n",
       "      <td>...</td>\n",
       "    </tr>\n",
       "    <tr>\n",
       "      <th>669730</th>\n",
       "      <td>0_2245</td>\n",
       "      <td>2021-08-25 09:06:03.504061</td>\n",
       "      <td>s_80395</td>\n",
       "      <td>c_131</td>\n",
       "    </tr>\n",
       "    <tr>\n",
       "      <th>670682</th>\n",
       "      <td>0_2245</td>\n",
       "      <td>2022-03-06 19:59:19.462288</td>\n",
       "      <td>s_175311</td>\n",
       "      <td>c_4167</td>\n",
       "    </tr>\n",
       "    <tr>\n",
       "      <th>671286</th>\n",
       "      <td>0_2245</td>\n",
       "      <td>2022-05-16 11:35:20.319501</td>\n",
       "      <td>s_209381</td>\n",
       "      <td>c_4453</td>\n",
       "    </tr>\n",
       "    <tr>\n",
       "      <th>675679</th>\n",
       "      <td>0_2245</td>\n",
       "      <td>2022-02-11 09:05:43.952857</td>\n",
       "      <td>s_163405</td>\n",
       "      <td>c_1098</td>\n",
       "    </tr>\n",
       "    <tr>\n",
       "      <th>677996</th>\n",
       "      <td>0_2245</td>\n",
       "      <td>2021-12-14 22:34:54.589921</td>\n",
       "      <td>s_134446</td>\n",
       "      <td>c_4854</td>\n",
       "    </tr>\n",
       "  </tbody>\n",
       "</table>\n",
       "<p>221 rows × 4 columns</p>\n",
       "</div>"
      ],
      "text/plain": [
       "       id_prod                        date session_id client_id\n",
       "2633    0_2245  2022-09-23 07:22:38.636773   s_272266    c_4746\n",
       "10106   0_2245  2022-07-23 09:24:14.133889   s_242482    c_6713\n",
       "11727   0_2245  2022-12-03 03:26:35.696673   s_306338    c_5108\n",
       "15675   0_2245  2021-08-16 11:33:25.481411    s_76493    c_1391\n",
       "16377   0_2245  2022-07-16 05:53:01.627491   s_239078    c_7954\n",
       "...        ...                         ...        ...       ...\n",
       "669730  0_2245  2021-08-25 09:06:03.504061    s_80395     c_131\n",
       "670682  0_2245  2022-03-06 19:59:19.462288   s_175311    c_4167\n",
       "671286  0_2245  2022-05-16 11:35:20.319501   s_209381    c_4453\n",
       "675679  0_2245  2022-02-11 09:05:43.952857   s_163405    c_1098\n",
       "677996  0_2245  2021-12-14 22:34:54.589921   s_134446    c_4854\n",
       "\n",
       "[221 rows x 4 columns]"
      ]
     },
     "execution_count": 26,
     "metadata": {},
     "output_type": "execute_result"
    }
   ],
   "source": [
    "df_missing_idprod_from_transactions=df_transactions[df_transactions['id_prod']==transaid_notin_prod[0]]\n",
    "df_missing_idprod_from_transactions.to_csv(\"./prepared_output/missing_idprod_from_transactions.csv\")\n",
    "df_missing_idprod_from_transactions"
   ]
  },
  {
   "cell_type": "markdown",
   "id": "abcafcd6",
   "metadata": {},
   "source": [
    "Nous exportons les données dans un fichier csv pour analyse ultérieur. En l'état nous ne pouvons pas expliquer pourquoi ce produit n'est pas dans la table product. Nous écarterons ainsi ce produit de notre analyse : Sans ses informations sur les prix et la catégorie du produit, nous ne pouvons pas l'analyser."
   ]
  },
  {
   "cell_type": "markdown",
   "id": "85213737",
   "metadata": {},
   "source": [
    "### Analyse du second cas"
   ]
  },
  {
   "cell_type": "code",
   "execution_count": 27,
   "id": "f49484b2",
   "metadata": {},
   "outputs": [
    {
     "data": {
      "text/html": [
       "<div>\n",
       "<style scoped>\n",
       "    .dataframe tbody tr th:only-of-type {\n",
       "        vertical-align: middle;\n",
       "    }\n",
       "\n",
       "    .dataframe tbody tr th {\n",
       "        vertical-align: top;\n",
       "    }\n",
       "\n",
       "    .dataframe thead th {\n",
       "        text-align: right;\n",
       "    }\n",
       "</style>\n",
       "<table border=\"1\" class=\"dataframe\">\n",
       "  <thead>\n",
       "    <tr style=\"text-align: right;\">\n",
       "      <th></th>\n",
       "      <th>id_prod</th>\n",
       "      <th>price</th>\n",
       "      <th>categ</th>\n",
       "    </tr>\n",
       "  </thead>\n",
       "  <tbody>\n",
       "    <tr>\n",
       "      <th>184</th>\n",
       "      <td>0_1016</td>\n",
       "      <td>35.06</td>\n",
       "      <td>0</td>\n",
       "    </tr>\n",
       "    <tr>\n",
       "      <th>279</th>\n",
       "      <td>0_1780</td>\n",
       "      <td>1.67</td>\n",
       "      <td>0</td>\n",
       "    </tr>\n",
       "    <tr>\n",
       "      <th>737</th>\n",
       "      <td>0_1062</td>\n",
       "      <td>20.08</td>\n",
       "      <td>0</td>\n",
       "    </tr>\n",
       "    <tr>\n",
       "      <th>794</th>\n",
       "      <td>0_1119</td>\n",
       "      <td>2.99</td>\n",
       "      <td>0</td>\n",
       "    </tr>\n",
       "    <tr>\n",
       "      <th>811</th>\n",
       "      <td>0_1014</td>\n",
       "      <td>1.15</td>\n",
       "      <td>0</td>\n",
       "    </tr>\n",
       "    <tr>\n",
       "      <th>846</th>\n",
       "      <td>1_0</td>\n",
       "      <td>31.82</td>\n",
       "      <td>1</td>\n",
       "    </tr>\n",
       "    <tr>\n",
       "      <th>1031</th>\n",
       "      <td>0_1318</td>\n",
       "      <td>20.92</td>\n",
       "      <td>0</td>\n",
       "    </tr>\n",
       "    <tr>\n",
       "      <th>1139</th>\n",
       "      <td>0_1800</td>\n",
       "      <td>22.05</td>\n",
       "      <td>0</td>\n",
       "    </tr>\n",
       "    <tr>\n",
       "      <th>1347</th>\n",
       "      <td>0_1645</td>\n",
       "      <td>2.99</td>\n",
       "      <td>0</td>\n",
       "    </tr>\n",
       "    <tr>\n",
       "      <th>1505</th>\n",
       "      <td>0_322</td>\n",
       "      <td>2.99</td>\n",
       "      <td>0</td>\n",
       "    </tr>\n",
       "    <tr>\n",
       "      <th>1530</th>\n",
       "      <td>0_1620</td>\n",
       "      <td>0.80</td>\n",
       "      <td>0</td>\n",
       "    </tr>\n",
       "    <tr>\n",
       "      <th>1543</th>\n",
       "      <td>0_1025</td>\n",
       "      <td>24.99</td>\n",
       "      <td>0</td>\n",
       "    </tr>\n",
       "    <tr>\n",
       "      <th>1709</th>\n",
       "      <td>2_87</td>\n",
       "      <td>220.99</td>\n",
       "      <td>2</td>\n",
       "    </tr>\n",
       "    <tr>\n",
       "      <th>1863</th>\n",
       "      <td>1_394</td>\n",
       "      <td>39.73</td>\n",
       "      <td>1</td>\n",
       "    </tr>\n",
       "    <tr>\n",
       "      <th>1946</th>\n",
       "      <td>2_72</td>\n",
       "      <td>141.32</td>\n",
       "      <td>2</td>\n",
       "    </tr>\n",
       "    <tr>\n",
       "      <th>2215</th>\n",
       "      <td>0_310</td>\n",
       "      <td>1.94</td>\n",
       "      <td>0</td>\n",
       "    </tr>\n",
       "    <tr>\n",
       "      <th>2408</th>\n",
       "      <td>0_1624</td>\n",
       "      <td>24.50</td>\n",
       "      <td>0</td>\n",
       "    </tr>\n",
       "    <tr>\n",
       "      <th>2525</th>\n",
       "      <td>2_86</td>\n",
       "      <td>132.36</td>\n",
       "      <td>2</td>\n",
       "    </tr>\n",
       "    <tr>\n",
       "      <th>2690</th>\n",
       "      <td>0_299</td>\n",
       "      <td>22.99</td>\n",
       "      <td>0</td>\n",
       "    </tr>\n",
       "    <tr>\n",
       "      <th>3031</th>\n",
       "      <td>0_510</td>\n",
       "      <td>23.66</td>\n",
       "      <td>0</td>\n",
       "    </tr>\n",
       "    <tr>\n",
       "      <th>3096</th>\n",
       "      <td>0_2308</td>\n",
       "      <td>20.28</td>\n",
       "      <td>0</td>\n",
       "    </tr>\n",
       "  </tbody>\n",
       "</table>\n",
       "</div>"
      ],
      "text/plain": [
       "     id_prod   price  categ\n",
       "184   0_1016   35.06      0\n",
       "279   0_1780    1.67      0\n",
       "737   0_1062   20.08      0\n",
       "794   0_1119    2.99      0\n",
       "811   0_1014    1.15      0\n",
       "846      1_0   31.82      1\n",
       "1031  0_1318   20.92      0\n",
       "1139  0_1800   22.05      0\n",
       "1347  0_1645    2.99      0\n",
       "1505   0_322    2.99      0\n",
       "1530  0_1620    0.80      0\n",
       "1543  0_1025   24.99      0\n",
       "1709    2_87  220.99      2\n",
       "1863   1_394   39.73      1\n",
       "1946    2_72  141.32      2\n",
       "2215   0_310    1.94      0\n",
       "2408  0_1624   24.50      0\n",
       "2525    2_86  132.36      2\n",
       "2690   0_299   22.99      0\n",
       "3031   0_510   23.66      0\n",
       "3096  0_2308   20.28      0"
      ]
     },
     "execution_count": 27,
     "metadata": {},
     "output_type": "execute_result"
    }
   ],
   "source": [
    "df_missing_idprod_from_products=df_products[df_products['id_prod'].isin(productid_notin_transa)]\n",
    "df_missing_idprod_from_products.to_csv(\"./prepared_output/missing_idprod_from_products.csv\")\n",
    "df_missing_idprod_from_products"
   ]
  },
  {
   "cell_type": "markdown",
   "id": "9b237552",
   "metadata": {},
   "source": [
    "Ces produits sont des produits qui n'ont vraisemblablement pas été vendu. Nous pouvons donc les écarter de notre analyse.\n",
    "Ceux-ci sont également exportés dans un fichier csv pour analyse ultérieur."
   ]
  },
  {
   "cell_type": "markdown",
   "id": "0d45669c",
   "metadata": {},
   "source": [
    "## Comparaison de la clé *client_id* entre la table **Transaction** et la table **Customers**"
   ]
  },
  {
   "cell_type": "code",
   "execution_count": 28,
   "id": "c8189d67",
   "metadata": {},
   "outputs": [
    {
     "name": "stdout",
     "output_type": "stream",
     "text": [
      "\u001b[1m\u001b[94mTransaction\u001b[0m possède \u001b[1m\u001b[91m0 client_ID\u001b[0m qui ne se retrouve pas dans \u001b[1m\u001b[94mCustomers\u001b[0m\n",
      "\u001b[1m\u001b[94mCustomers\u001b[0m possède \u001b[1m\u001b[91m21 client_ID\u001b[0m qui ne se retrouve pas dans \u001b[1m\u001b[94mTransaction\u001b[0m\n"
     ]
    }
   ],
   "source": [
    "transacid_notin_client,customercid_notin_transac=compareID(df_transactions['client_id'].tolist(),df_customers['client_id'].tolist(),'client_ID','Transaction','Customers')"
   ]
  },
  {
   "cell_type": "markdown",
   "id": "eeef5246",
   "metadata": {},
   "source": [
    "### Analyse du second cas"
   ]
  },
  {
   "cell_type": "code",
   "execution_count": 29,
   "id": "85ec4124",
   "metadata": {},
   "outputs": [
    {
     "data": {
      "text/html": [
       "<div>\n",
       "<style scoped>\n",
       "    .dataframe tbody tr th:only-of-type {\n",
       "        vertical-align: middle;\n",
       "    }\n",
       "\n",
       "    .dataframe tbody tr th {\n",
       "        vertical-align: top;\n",
       "    }\n",
       "\n",
       "    .dataframe thead th {\n",
       "        text-align: right;\n",
       "    }\n",
       "</style>\n",
       "<table border=\"1\" class=\"dataframe\">\n",
       "  <thead>\n",
       "    <tr style=\"text-align: right;\">\n",
       "      <th></th>\n",
       "      <th>client_id</th>\n",
       "      <th>sex</th>\n",
       "      <th>birth</th>\n",
       "    </tr>\n",
       "  </thead>\n",
       "  <tbody>\n",
       "    <tr>\n",
       "      <th>801</th>\n",
       "      <td>c_8253</td>\n",
       "      <td>f</td>\n",
       "      <td>2001</td>\n",
       "    </tr>\n",
       "    <tr>\n",
       "      <th>2483</th>\n",
       "      <td>c_3789</td>\n",
       "      <td>f</td>\n",
       "      <td>1997</td>\n",
       "    </tr>\n",
       "    <tr>\n",
       "      <th>2734</th>\n",
       "      <td>c_4406</td>\n",
       "      <td>f</td>\n",
       "      <td>1998</td>\n",
       "    </tr>\n",
       "    <tr>\n",
       "      <th>2769</th>\n",
       "      <td>c_2706</td>\n",
       "      <td>f</td>\n",
       "      <td>1967</td>\n",
       "    </tr>\n",
       "    <tr>\n",
       "      <th>2851</th>\n",
       "      <td>c_3443</td>\n",
       "      <td>m</td>\n",
       "      <td>1959</td>\n",
       "    </tr>\n",
       "    <tr>\n",
       "      <th>3179</th>\n",
       "      <td>c_4447</td>\n",
       "      <td>m</td>\n",
       "      <td>1956</td>\n",
       "    </tr>\n",
       "    <tr>\n",
       "      <th>3190</th>\n",
       "      <td>c_3017</td>\n",
       "      <td>f</td>\n",
       "      <td>1992</td>\n",
       "    </tr>\n",
       "    <tr>\n",
       "      <th>3334</th>\n",
       "      <td>c_4086</td>\n",
       "      <td>f</td>\n",
       "      <td>1992</td>\n",
       "    </tr>\n",
       "    <tr>\n",
       "      <th>3721</th>\n",
       "      <td>c_6930</td>\n",
       "      <td>m</td>\n",
       "      <td>2004</td>\n",
       "    </tr>\n",
       "    <tr>\n",
       "      <th>3821</th>\n",
       "      <td>c_4358</td>\n",
       "      <td>m</td>\n",
       "      <td>1999</td>\n",
       "    </tr>\n",
       "    <tr>\n",
       "      <th>4724</th>\n",
       "      <td>c_8381</td>\n",
       "      <td>f</td>\n",
       "      <td>1965</td>\n",
       "    </tr>\n",
       "    <tr>\n",
       "      <th>4791</th>\n",
       "      <td>c_1223</td>\n",
       "      <td>m</td>\n",
       "      <td>1963</td>\n",
       "    </tr>\n",
       "    <tr>\n",
       "      <th>6112</th>\n",
       "      <td>c_6862</td>\n",
       "      <td>f</td>\n",
       "      <td>2002</td>\n",
       "    </tr>\n",
       "    <tr>\n",
       "      <th>6208</th>\n",
       "      <td>c_5245</td>\n",
       "      <td>f</td>\n",
       "      <td>2004</td>\n",
       "    </tr>\n",
       "    <tr>\n",
       "      <th>6338</th>\n",
       "      <td>c_5223</td>\n",
       "      <td>m</td>\n",
       "      <td>2003</td>\n",
       "    </tr>\n",
       "    <tr>\n",
       "      <th>6471</th>\n",
       "      <td>c_6735</td>\n",
       "      <td>m</td>\n",
       "      <td>2004</td>\n",
       "    </tr>\n",
       "    <tr>\n",
       "      <th>6585</th>\n",
       "      <td>c_862</td>\n",
       "      <td>f</td>\n",
       "      <td>1956</td>\n",
       "    </tr>\n",
       "    <tr>\n",
       "      <th>6828</th>\n",
       "      <td>c_7584</td>\n",
       "      <td>f</td>\n",
       "      <td>1960</td>\n",
       "    </tr>\n",
       "    <tr>\n",
       "      <th>7790</th>\n",
       "      <td>c_90</td>\n",
       "      <td>m</td>\n",
       "      <td>2001</td>\n",
       "    </tr>\n",
       "    <tr>\n",
       "      <th>7819</th>\n",
       "      <td>c_587</td>\n",
       "      <td>m</td>\n",
       "      <td>1993</td>\n",
       "    </tr>\n",
       "    <tr>\n",
       "      <th>8536</th>\n",
       "      <td>c_3526</td>\n",
       "      <td>m</td>\n",
       "      <td>1956</td>\n",
       "    </tr>\n",
       "  </tbody>\n",
       "</table>\n",
       "</div>"
      ],
      "text/plain": [
       "     client_id sex  birth\n",
       "801     c_8253   f   2001\n",
       "2483    c_3789   f   1997\n",
       "2734    c_4406   f   1998\n",
       "2769    c_2706   f   1967\n",
       "2851    c_3443   m   1959\n",
       "3179    c_4447   m   1956\n",
       "3190    c_3017   f   1992\n",
       "3334    c_4086   f   1992\n",
       "3721    c_6930   m   2004\n",
       "3821    c_4358   m   1999\n",
       "4724    c_8381   f   1965\n",
       "4791    c_1223   m   1963\n",
       "6112    c_6862   f   2002\n",
       "6208    c_5245   f   2004\n",
       "6338    c_5223   m   2003\n",
       "6471    c_6735   m   2004\n",
       "6585     c_862   f   1956\n",
       "6828    c_7584   f   1960\n",
       "7790      c_90   m   2001\n",
       "7819     c_587   m   1993\n",
       "8536    c_3526   m   1956"
      ]
     },
     "execution_count": 29,
     "metadata": {},
     "output_type": "execute_result"
    }
   ],
   "source": [
    "df_customers[df_customers['client_id'].isin(customercid_notin_transac)].to_csv('./prepared_output/client_notin_transaction.csv')\n",
    "df_customers[df_customers['client_id'].isin(customercid_notin_transac)]"
   ]
  },
  {
   "cell_type": "markdown",
   "id": "8d98fc50",
   "metadata": {},
   "source": [
    "Ces clients sont seulement enregistrés sur le site mais n'ont pas acheté de produit. Nous pouvons donc les écarter de notre analyse.\n",
    "Ceux-ci sont également exportés dans un fichier csv pour analyse ultérieur. "
   ]
  },
  {
   "cell_type": "markdown",
   "id": "1ba2b74d-f31b-4754-93a3-880a89d657d1",
   "metadata": {},
   "source": [
    "# Analyse Table Productd"
   ]
  },
  {
   "cell_type": "code",
   "execution_count": 30,
   "id": "8a84343f-dca2-4165-9c10-a152170d4f71",
   "metadata": {},
   "outputs": [
    {
     "data": {
      "text/html": [
       "<div>\n",
       "<style scoped>\n",
       "    .dataframe tbody tr th:only-of-type {\n",
       "        vertical-align: middle;\n",
       "    }\n",
       "\n",
       "    .dataframe tbody tr th {\n",
       "        vertical-align: top;\n",
       "    }\n",
       "\n",
       "    .dataframe thead th {\n",
       "        text-align: right;\n",
       "    }\n",
       "</style>\n",
       "<table border=\"1\" class=\"dataframe\">\n",
       "  <thead>\n",
       "    <tr style=\"text-align: right;\">\n",
       "      <th></th>\n",
       "      <th>id_prod</th>\n",
       "      <th>price</th>\n",
       "      <th>categ</th>\n",
       "    </tr>\n",
       "  </thead>\n",
       "  <tbody>\n",
       "    <tr>\n",
       "      <th>0</th>\n",
       "      <td>0_1421</td>\n",
       "      <td>19.99</td>\n",
       "      <td>0</td>\n",
       "    </tr>\n",
       "    <tr>\n",
       "      <th>1</th>\n",
       "      <td>0_1368</td>\n",
       "      <td>5.13</td>\n",
       "      <td>0</td>\n",
       "    </tr>\n",
       "    <tr>\n",
       "      <th>2</th>\n",
       "      <td>0_731</td>\n",
       "      <td>17.99</td>\n",
       "      <td>0</td>\n",
       "    </tr>\n",
       "    <tr>\n",
       "      <th>3</th>\n",
       "      <td>1_587</td>\n",
       "      <td>4.99</td>\n",
       "      <td>1</td>\n",
       "    </tr>\n",
       "    <tr>\n",
       "      <th>4</th>\n",
       "      <td>0_1507</td>\n",
       "      <td>3.99</td>\n",
       "      <td>0</td>\n",
       "    </tr>\n",
       "  </tbody>\n",
       "</table>\n",
       "</div>"
      ],
      "text/plain": [
       "  id_prod  price  categ\n",
       "0  0_1421  19.99      0\n",
       "1  0_1368   5.13      0\n",
       "2   0_731  17.99      0\n",
       "3   1_587   4.99      1\n",
       "4  0_1507   3.99      0"
      ]
     },
     "execution_count": 30,
     "metadata": {},
     "output_type": "execute_result"
    }
   ],
   "source": [
    "df_products.head()"
   ]
  },
  {
   "cell_type": "code",
   "execution_count": 31,
   "id": "a747edde-bf86-4a14-b058-b96b1bb1d8d4",
   "metadata": {},
   "outputs": [
    {
     "data": {
      "text/plain": [
       "0    2309\n",
       "1     739\n",
       "2     239\n",
       "Name: categ, dtype: int64"
      ]
     },
     "execution_count": 31,
     "metadata": {},
     "output_type": "execute_result"
    }
   ],
   "source": [
    "df_products['categ'].value_counts(dropna=False)"
   ]
  },
  {
   "cell_type": "markdown",
   "id": "c22f098c",
   "metadata": {},
   "source": [
    "## Filtre des produits \"test\"\n",
    "Nous allons mettre les produits de test dans un DataFrame à part. Cela nous permettra de les supprimer de la table *Products* et ainsi de ne pas fausser notre analyse."
   ]
  },
  {
   "cell_type": "code",
   "execution_count": 32,
   "id": "de595c7b",
   "metadata": {},
   "outputs": [
    {
     "name": "stdout",
     "output_type": "stream",
     "text": [
      "<class 'pandas.core.frame.DataFrame'>\n",
      "RangeIndex: 3287 entries, 0 to 3286\n",
      "Data columns (total 3 columns):\n",
      " #   Column   Non-Null Count  Dtype  \n",
      "---  ------   --------------  -----  \n",
      " 0   id_prod  3287 non-null   object \n",
      " 1   price    3287 non-null   float64\n",
      " 2   categ    3287 non-null   int64  \n",
      "dtypes: float64(1), int64(1), object(1)\n",
      "memory usage: 77.2+ KB\n"
     ]
    }
   ],
   "source": [
    "df_products.info()"
   ]
  },
  {
   "cell_type": "code",
   "execution_count": 33,
   "id": "78191f55",
   "metadata": {},
   "outputs": [
    {
     "name": "stdout",
     "output_type": "stream",
     "text": [
      "<class 'pandas.core.frame.DataFrame'>\n",
      "Int64Index: 3286 entries, 0 to 3286\n",
      "Data columns (total 3 columns):\n",
      " #   Column   Non-Null Count  Dtype  \n",
      "---  ------   --------------  -----  \n",
      " 0   id_prod  3286 non-null   object \n",
      " 1   price    3286 non-null   float64\n",
      " 2   categ    3286 non-null   int64  \n",
      "dtypes: float64(1), int64(1), object(1)\n",
      "memory usage: 102.7+ KB\n"
     ]
    }
   ],
   "source": [
    "df_clean_products=df_products[df_products['id_prod']!='T_0']\n",
    "df_clean_products.info()"
   ]
  },
  {
   "cell_type": "markdown",
   "id": "ea6fba49",
   "metadata": {},
   "source": [
    "## Boxplot\n",
    "\n",
    "Nous allons générer un boxplot sur les prix des produits par catégorie. Cela nous permettra de visualiser si il y a des outliers."
   ]
  },
  {
   "cell_type": "code",
   "execution_count": 34,
   "id": "5ab2e616",
   "metadata": {},
   "outputs": [
    {
     "name": "stderr",
     "output_type": "stream",
     "text": [
      "/tmp/ipykernel_231218/59106916.py:6: FutureWarning: Dropping invalid columns in DataFrameGroupBy.quantile is deprecated. In a future version, a TypeError will be raised. Before calling .quantile, select only columns which should be valid for the function.\n",
      "  q1 = groups.quantile(q=0.25)\n",
      "/tmp/ipykernel_231218/59106916.py:7: FutureWarning: Dropping invalid columns in DataFrameGroupBy.quantile is deprecated. In a future version, a TypeError will be raised. Before calling .quantile, select only columns which should be valid for the function.\n",
      "  q2 = groups.quantile(q=0.5)\n",
      "/tmp/ipykernel_231218/59106916.py:8: FutureWarning: Dropping invalid columns in DataFrameGroupBy.quantile is deprecated. In a future version, a TypeError will be raised. Before calling .quantile, select only columns which should be valid for the function.\n",
      "  q3 = groups.quantile(q=0.75)\n",
      "/tmp/ipykernel_231218/59106916.py:35: FutureWarning: Dropping invalid columns in DataFrameGroupBy.quantile is deprecated. In a future version, a TypeError will be raised. Before calling .quantile, select only columns which should be valid for the function.\n",
      "  qmin = groups.quantile(q=0.00)\n",
      "/tmp/ipykernel_231218/59106916.py:36: FutureWarning: Dropping invalid columns in DataFrameGroupBy.quantile is deprecated. In a future version, a TypeError will be raised. Before calling .quantile, select only columns which should be valid for the function.\n",
      "  qmax = groups.quantile(q=1.00)\n"
     ]
    },
    {
     "data": {
      "text/html": [
       "\n",
       "  <div class=\"bk-root\" id=\"fc90ff7d-fe47-4b60-aeb7-8db0922900ad\" data-root-id=\"1325\"></div>\n"
      ]
     },
     "metadata": {},
     "output_type": "display_data"
    },
    {
     "data": {
      "application/javascript": "(function(root) {\n  function embed_document(root) {\n  const docs_json = {\"eb85e61c-bc79-4be0-afa4-718c7eb68ca1\":{\"defs\":[],\"roots\":{\"references\":[{\"attributes\":{\"background_fill_color\":\"#efefef\",\"below\":[{\"id\":\"1334\"}],\"center\":[{\"id\":\"1336\"},{\"id\":\"1340\"}],\"height\":800,\"left\":[{\"id\":\"1337\"}],\"renderers\":[{\"id\":\"1346\"},{\"id\":\"1352\"},{\"id\":\"1358\"},{\"id\":\"1364\"},{\"id\":\"1370\"},{\"id\":\"1376\"},{\"id\":\"1382\"}],\"title\":{\"id\":\"1411\"},\"toolbar\":{\"id\":\"1341\"},\"toolbar_location\":null,\"width\":800,\"x_range\":{\"id\":\"1326\"},\"x_scale\":{\"id\":\"1330\"},\"y_range\":{\"id\":\"1328\"},\"y_scale\":{\"id\":\"1332\"}},\"id\":\"1325\",\"subtype\":\"Figure\",\"type\":\"Plot\"},{\"attributes\":{\"coordinates\":null,\"data_source\":{\"id\":\"1378\"},\"glyph\":{\"id\":\"1379\"},\"group\":null,\"hover_glyph\":null,\"muted_glyph\":{\"id\":\"1381\"},\"nonselection_glyph\":{\"id\":\"1380\"},\"view\":{\"id\":\"1383\"}},\"id\":\"1382\",\"type\":\"GlyphRenderer\"},{\"attributes\":{\"source\":{\"id\":\"1348\"}},\"id\":\"1353\",\"type\":\"CDSView\"},{\"attributes\":{\"source\":{\"id\":\"1354\"}},\"id\":\"1359\",\"type\":\"CDSView\"},{\"attributes\":{\"fill_color\":{\"value\":\"#1f77b4\"},\"height\":{\"value\":0.01},\"width\":{\"value\":0.2},\"x\":{\"field\":\"x\"},\"y\":{\"field\":\"y\"}},\"id\":\"1367\",\"type\":\"Rect\"},{\"attributes\":{},\"id\":\"1420\",\"type\":\"Selection\"},{\"attributes\":{\"coordinates\":null,\"data_source\":{\"id\":\"1354\"},\"glyph\":{\"id\":\"1355\"},\"group\":null,\"hover_glyph\":null,\"muted_glyph\":{\"id\":\"1357\"},\"nonselection_glyph\":{\"id\":\"1356\"},\"view\":{\"id\":\"1359\"}},\"id\":\"1358\",\"type\":\"GlyphRenderer\"},{\"attributes\":{},\"id\":\"1426\",\"type\":\"Selection\"},{\"attributes\":{},\"id\":\"1419\",\"type\":\"UnionRenderers\"},{\"attributes\":{\"data\":{\"bottom\":{\"__ndarray__\":\"SOF6FK6nMEAfhetRuP5AQClcj8L1EGFA\",\"dtype\":\"float64\",\"order\":\"little\",\"shape\":[3]},\"top\":{\"__ndarray__\":\"pHA9CtejJEA9CtejcP02QI/C9Shcf1lA\",\"dtype\":\"float64\",\"order\":\"little\",\"shape\":[3]},\"x\":[\"categorie 0\",\"categorie 1\",\"categorie 2\"]},\"selected\":{\"id\":\"1424\"},\"selection_policy\":{\"id\":\"1423\"}},\"id\":\"1354\",\"type\":\"ColumnDataSource\"},{\"attributes\":{},\"id\":\"1425\",\"type\":\"UnionRenderers\"},{\"attributes\":{},\"id\":\"1424\",\"type\":\"Selection\"},{\"attributes\":{\"factors\":[\"categorie 0\",\"categorie 1\",\"categorie 2\"]},\"id\":\"1326\",\"type\":\"FactorRange\"},{\"attributes\":{\"bottom\":{\"field\":\"bottom\"},\"fill_color\":{\"value\":\"#E08E79\"},\"top\":{\"field\":\"top\"},\"width\":{\"value\":0.7},\"x\":{\"field\":\"x\"}},\"id\":\"1355\",\"type\":\"VBar\"},{\"attributes\":{\"line_alpha\":{\"value\":0.1},\"x0\":{\"field\":\"x0\"},\"x1\":{\"field\":\"x1\"},\"y0\":{\"field\":\"y0\"},\"y1\":{\"field\":\"y1\"}},\"id\":\"1344\",\"type\":\"Segment\"},{\"attributes\":{},\"id\":\"1423\",\"type\":\"UnionRenderers\"},{\"attributes\":{\"data\":{\"x\":[\"categorie 0\",\"categorie 0\",\"categorie 0\",\"categorie 0\",\"categorie 0\",\"categorie 0\",\"categorie 0\",\"categorie 0\",\"categorie 0\",\"categorie 0\",\"categorie 0\",\"categorie 0\",\"categorie 0\",\"categorie 0\",\"categorie 0\",\"categorie 0\",\"categorie 0\",\"categorie 0\",\"categorie 0\",\"categorie 0\",\"categorie 0\",\"categorie 0\",\"categorie 1\",\"categorie 1\",\"categorie 1\",\"categorie 1\",\"categorie 1\",\"categorie 1\",\"categorie 1\",\"categorie 1\",\"categorie 1\",\"categorie 1\",\"categorie 2\",\"categorie 2\",\"categorie 2\",\"categorie 2\"],\"y\":[34.99,40.99,37.53,35.06,34.99,37.99,35.3,37.99,36.99,37.91,37.46,39.58,34.99,33.54,34.99,34.99,34.99,37.64,33.99,37.99,39.99,34.99,70.51,66.99,78.83,80.99,79.99,68.49,67.65,67.66,73.99,72.75,247.22,254.44,300.0,236.99]},\"selected\":{\"id\":\"1432\"},\"selection_policy\":{\"id\":\"1431\"}},\"id\":\"1378\",\"type\":\"ColumnDataSource\"},{\"attributes\":{\"fill_alpha\":{\"value\":0.2},\"fill_color\":{\"value\":\"#1f77b4\"},\"hatch_alpha\":{\"value\":0.2},\"height\":{\"value\":0.01},\"line_alpha\":{\"value\":0.2},\"width\":{\"value\":0.2},\"x\":{\"field\":\"x\"},\"y\":{\"field\":\"y\"}},\"id\":\"1369\",\"type\":\"Rect\"},{\"attributes\":{\"source\":{\"id\":\"1372\"}},\"id\":\"1377\",\"type\":\"CDSView\"},{\"attributes\":{},\"id\":\"1341\",\"type\":\"Toolbar\"},{\"attributes\":{\"fill_alpha\":{\"value\":0.1},\"fill_color\":{\"value\":\"#1f77b4\"},\"hatch_alpha\":{\"value\":0.1},\"height\":{\"value\":0.01},\"line_alpha\":{\"value\":0.1},\"width\":{\"value\":0.2},\"x\":{\"field\":\"x\"},\"y\":{\"field\":\"y\"}},\"id\":\"1368\",\"type\":\"Rect\"},{\"attributes\":{},\"id\":\"1335\",\"type\":\"CategoricalTicker\"},{\"attributes\":{},\"id\":\"1328\",\"type\":\"DataRange1d\"},{\"attributes\":{\"source\":{\"id\":\"1366\"}},\"id\":\"1371\",\"type\":\"CDSView\"},{\"attributes\":{},\"id\":\"1332\",\"type\":\"LinearScale\"},{\"attributes\":{\"fill_alpha\":{\"value\":0.6},\"fill_color\":{\"value\":\"#F38630\"},\"hatch_color\":{\"value\":\"#F38630\"},\"line_color\":{\"value\":\"#F38630\"},\"size\":{\"value\":6},\"x\":{\"field\":\"x\"},\"y\":{\"field\":\"y\"}},\"id\":\"1379\",\"type\":\"Circle\"},{\"attributes\":{},\"id\":\"1428\",\"type\":\"Selection\"},{\"attributes\":{},\"id\":\"1338\",\"type\":\"BasicTicker\"},{\"attributes\":{\"line_alpha\":{\"value\":0.2},\"x0\":{\"field\":\"x0\"},\"x1\":{\"field\":\"x1\"},\"y0\":{\"field\":\"y0\"},\"y1\":{\"field\":\"y1\"}},\"id\":\"1345\",\"type\":\"Segment\"},{\"attributes\":{},\"id\":\"1431\",\"type\":\"UnionRenderers\"},{\"attributes\":{\"x0\":{\"field\":\"x0\"},\"x1\":{\"field\":\"x1\"},\"y0\":{\"field\":\"y0\"},\"y1\":{\"field\":\"y1\"}},\"id\":\"1343\",\"type\":\"Segment\"},{\"attributes\":{\"data\":{\"x0\":[\"categorie 0\",\"categorie 1\",\"categorie 2\"],\"x1\":[\"categorie 0\",\"categorie 1\",\"categorie 2\"],\"y0\":{\"__ndarray__\":\"zczMzMygQEApXI/C9ThQQOJ6FK5HV21A\",\"dtype\":\"float64\",\"order\":\"little\",\"shape\":[3]},\"y1\":{\"__ndarray__\":\"SOF6FK6nMEAfhetRuP5AQClcj8L1EGFA\",\"dtype\":\"float64\",\"order\":\"little\",\"shape\":[3]}},\"selected\":{\"id\":\"1420\"},\"selection_policy\":{\"id\":\"1419\"}},\"id\":\"1342\",\"type\":\"ColumnDataSource\"},{\"attributes\":{\"source\":{\"id\":\"1342\"}},\"id\":\"1347\",\"type\":\"CDSView\"},{\"attributes\":{\"bottom\":{\"field\":\"bottom\"},\"fill_alpha\":{\"value\":0.2},\"fill_color\":{\"value\":\"#3B8686\"},\"hatch_alpha\":{\"value\":0.2},\"line_alpha\":{\"value\":0.2},\"top\":{\"field\":\"top\"},\"width\":{\"value\":0.7},\"x\":{\"field\":\"x\"}},\"id\":\"1363\",\"type\":\"VBar\"},{\"attributes\":{\"coordinates\":null,\"data_source\":{\"id\":\"1342\"},\"glyph\":{\"id\":\"1343\"},\"group\":null,\"hover_glyph\":null,\"muted_glyph\":{\"id\":\"1345\"},\"nonselection_glyph\":{\"id\":\"1344\"},\"view\":{\"id\":\"1347\"}},\"id\":\"1346\",\"type\":\"GlyphRenderer\"},{\"attributes\":{\"coordinates\":null,\"formatter\":{\"id\":\"1414\"},\"group\":null,\"major_label_policy\":{\"id\":\"1415\"},\"ticker\":{\"id\":\"1338\"}},\"id\":\"1337\",\"type\":\"LinearAxis\"},{\"attributes\":{\"fill_color\":{\"value\":\"#1f77b4\"},\"height\":{\"value\":0.01},\"width\":{\"value\":0.2},\"x\":{\"field\":\"x\"},\"y\":{\"field\":\"y\"}},\"id\":\"1373\",\"type\":\"Rect\"},{\"attributes\":{\"fill_alpha\":{\"value\":0.1},\"fill_color\":{\"value\":\"#F38630\"},\"hatch_alpha\":{\"value\":0.1},\"hatch_color\":{\"value\":\"#F38630\"},\"line_alpha\":{\"value\":0.1},\"line_color\":{\"value\":\"#F38630\"},\"size\":{\"value\":6},\"x\":{\"field\":\"x\"},\"y\":{\"field\":\"y\"}},\"id\":\"1380\",\"type\":\"Circle\"},{\"attributes\":{},\"id\":\"1422\",\"type\":\"Selection\"},{\"attributes\":{\"coordinates\":null,\"group\":null},\"id\":\"1411\",\"type\":\"Title\"},{\"attributes\":{},\"id\":\"1421\",\"type\":\"UnionRenderers\"},{\"attributes\":{\"source\":{\"id\":\"1360\"}},\"id\":\"1365\",\"type\":\"CDSView\"},{\"attributes\":{\"coordinates\":null,\"formatter\":{\"id\":\"1417\"},\"group\":null,\"major_label_policy\":{\"id\":\"1418\"},\"major_label_text_font_size\":\"16px\",\"ticker\":{\"id\":\"1335\"}},\"id\":\"1334\",\"type\":\"CategoricalAxis\"},{\"attributes\":{\"x0\":{\"field\":\"x0\"},\"x1\":{\"field\":\"x1\"},\"y0\":{\"field\":\"y0\"},\"y1\":{\"field\":\"y1\"}},\"id\":\"1349\",\"type\":\"Segment\"},{\"attributes\":{\"coordinates\":null,\"data_source\":{\"id\":\"1366\"},\"glyph\":{\"id\":\"1367\"},\"group\":null,\"hover_glyph\":null,\"muted_glyph\":{\"id\":\"1369\"},\"nonselection_glyph\":{\"id\":\"1368\"},\"view\":{\"id\":\"1371\"}},\"id\":\"1370\",\"type\":\"GlyphRenderer\"},{\"attributes\":{},\"id\":\"1414\",\"type\":\"BasicTickFormatter\"},{\"attributes\":{},\"id\":\"1427\",\"type\":\"UnionRenderers\"},{\"attributes\":{},\"id\":\"1430\",\"type\":\"Selection\"},{\"attributes\":{},\"id\":\"1415\",\"type\":\"AllLabels\"},{\"attributes\":{\"coordinates\":null,\"data_source\":{\"id\":\"1372\"},\"glyph\":{\"id\":\"1373\"},\"group\":null,\"hover_glyph\":null,\"muted_glyph\":{\"id\":\"1375\"},\"nonselection_glyph\":{\"id\":\"1374\"},\"view\":{\"id\":\"1377\"}},\"id\":\"1376\",\"type\":\"GlyphRenderer\"},{\"attributes\":{},\"id\":\"1330\",\"type\":\"CategoricalScale\"},{\"attributes\":{\"data\":{\"x0\":[\"categorie 0\",\"categorie 1\",\"categorie 2\"],\"x1\":[\"categorie 0\",\"categorie 1\",\"categorie 2\"],\"y0\":{\"__ndarray__\":\"16NwPQrX4z8AAAAAAAAAQD0K16Nw/T5A\",\"dtype\":\"float64\",\"order\":\"little\",\"shape\":[3]},\"y1\":{\"__ndarray__\":\"mpmZmZlZFkBI4XoUrscqQFyPwvUoxFFA\",\"dtype\":\"float64\",\"order\":\"little\",\"shape\":[3]}},\"selected\":{\"id\":\"1422\"},\"selection_policy\":{\"id\":\"1421\"}},\"id\":\"1348\",\"type\":\"ColumnDataSource\"},{\"attributes\":{\"data\":{\"x\":[\"categorie 0\",\"categorie 1\",\"categorie 2\"],\"y\":{\"__ndarray__\":\"zczMzMygQEApXI/C9ThQQOJ6FK5HV21A\",\"dtype\":\"float64\",\"order\":\"little\",\"shape\":[3]}},\"selected\":{\"id\":\"1430\"},\"selection_policy\":{\"id\":\"1429\"}},\"id\":\"1372\",\"type\":\"ColumnDataSource\"},{\"attributes\":{\"coordinates\":null,\"data_source\":{\"id\":\"1348\"},\"glyph\":{\"id\":\"1349\"},\"group\":null,\"hover_glyph\":null,\"muted_glyph\":{\"id\":\"1351\"},\"nonselection_glyph\":{\"id\":\"1350\"},\"view\":{\"id\":\"1353\"}},\"id\":\"1352\",\"type\":\"GlyphRenderer\"},{\"attributes\":{\"fill_alpha\":{\"value\":0.1},\"fill_color\":{\"value\":\"#1f77b4\"},\"hatch_alpha\":{\"value\":0.1},\"height\":{\"value\":0.01},\"line_alpha\":{\"value\":0.1},\"width\":{\"value\":0.2},\"x\":{\"field\":\"x\"},\"y\":{\"field\":\"y\"}},\"id\":\"1374\",\"type\":\"Rect\"},{\"attributes\":{\"fill_alpha\":{\"value\":0.2},\"fill_color\":{\"value\":\"#1f77b4\"},\"hatch_alpha\":{\"value\":0.2},\"height\":{\"value\":0.01},\"line_alpha\":{\"value\":0.2},\"width\":{\"value\":0.2},\"x\":{\"field\":\"x\"},\"y\":{\"field\":\"y\"}},\"id\":\"1375\",\"type\":\"Rect\"},{\"attributes\":{\"axis\":{\"id\":\"1337\"},\"coordinates\":null,\"dimension\":1,\"grid_line_color\":\"white\",\"grid_line_width\":2,\"group\":null,\"ticker\":null},\"id\":\"1340\",\"type\":\"Grid\"},{\"attributes\":{\"source\":{\"id\":\"1378\"}},\"id\":\"1383\",\"type\":\"CDSView\"},{\"attributes\":{\"bottom\":{\"field\":\"bottom\"},\"fill_alpha\":{\"value\":0.1},\"fill_color\":{\"value\":\"#3B8686\"},\"hatch_alpha\":{\"value\":0.1},\"line_alpha\":{\"value\":0.1},\"top\":{\"field\":\"top\"},\"width\":{\"value\":0.7},\"x\":{\"field\":\"x\"}},\"id\":\"1362\",\"type\":\"VBar\"},{\"attributes\":{\"axis\":{\"id\":\"1334\"},\"coordinates\":null,\"grid_line_color\":null,\"grid_line_width\":2,\"group\":null,\"ticker\":null},\"id\":\"1336\",\"type\":\"Grid\"},{\"attributes\":{\"bottom\":{\"field\":\"bottom\"},\"fill_color\":{\"value\":\"#3B8686\"},\"top\":{\"field\":\"top\"},\"width\":{\"value\":0.7},\"x\":{\"field\":\"x\"}},\"id\":\"1361\",\"type\":\"VBar\"},{\"attributes\":{\"fill_alpha\":{\"value\":0.2},\"fill_color\":{\"value\":\"#F38630\"},\"hatch_alpha\":{\"value\":0.2},\"hatch_color\":{\"value\":\"#F38630\"},\"line_alpha\":{\"value\":0.2},\"line_color\":{\"value\":\"#F38630\"},\"size\":{\"value\":6},\"x\":{\"field\":\"x\"},\"y\":{\"field\":\"y\"}},\"id\":\"1381\",\"type\":\"Circle\"},{\"attributes\":{\"line_alpha\":{\"value\":0.2},\"x0\":{\"field\":\"x0\"},\"x1\":{\"field\":\"x1\"},\"y0\":{\"field\":\"y0\"},\"y1\":{\"field\":\"y1\"}},\"id\":\"1351\",\"type\":\"Segment\"},{\"attributes\":{},\"id\":\"1417\",\"type\":\"CategoricalTickFormatter\"},{\"attributes\":{},\"id\":\"1418\",\"type\":\"AllLabels\"},{\"attributes\":{\"line_alpha\":{\"value\":0.1},\"x0\":{\"field\":\"x0\"},\"x1\":{\"field\":\"x1\"},\"y0\":{\"field\":\"y0\"},\"y1\":{\"field\":\"y1\"}},\"id\":\"1350\",\"type\":\"Segment\"},{\"attributes\":{},\"id\":\"1429\",\"type\":\"UnionRenderers\"},{\"attributes\":{\"data\":{\"x\":[\"categorie 0\",\"categorie 1\",\"categorie 2\"],\"y\":{\"__ndarray__\":\"16NwPQrX4z8AAAAAAAAAQD0K16Nw/T5A\",\"dtype\":\"float64\",\"order\":\"little\",\"shape\":[3]}},\"selected\":{\"id\":\"1428\"},\"selection_policy\":{\"id\":\"1427\"}},\"id\":\"1366\",\"type\":\"ColumnDataSource\"},{\"attributes\":{\"coordinates\":null,\"data_source\":{\"id\":\"1360\"},\"glyph\":{\"id\":\"1361\"},\"group\":null,\"hover_glyph\":null,\"muted_glyph\":{\"id\":\"1363\"},\"nonselection_glyph\":{\"id\":\"1362\"},\"view\":{\"id\":\"1365\"}},\"id\":\"1364\",\"type\":\"GlyphRenderer\"},{\"attributes\":{},\"id\":\"1432\",\"type\":\"Selection\"},{\"attributes\":{\"bottom\":{\"field\":\"bottom\"},\"fill_alpha\":{\"value\":0.1},\"fill_color\":{\"value\":\"#E08E79\"},\"hatch_alpha\":{\"value\":0.1},\"line_alpha\":{\"value\":0.1},\"top\":{\"field\":\"top\"},\"width\":{\"value\":0.7},\"x\":{\"field\":\"x\"}},\"id\":\"1356\",\"type\":\"VBar\"},{\"attributes\":{\"bottom\":{\"field\":\"bottom\"},\"fill_alpha\":{\"value\":0.2},\"fill_color\":{\"value\":\"#E08E79\"},\"hatch_alpha\":{\"value\":0.2},\"line_alpha\":{\"value\":0.2},\"top\":{\"field\":\"top\"},\"width\":{\"value\":0.7},\"x\":{\"field\":\"x\"}},\"id\":\"1357\",\"type\":\"VBar\"},{\"attributes\":{\"data\":{\"bottom\":{\"__ndarray__\":\"pHA9CtejJEA9CtejcP02QI/C9Shcf1lA\",\"dtype\":\"float64\",\"order\":\"little\",\"shape\":[3]},\"top\":{\"__ndarray__\":\"mpmZmZlZFkBI4XoUrscqQFyPwvUoxFFA\",\"dtype\":\"float64\",\"order\":\"little\",\"shape\":[3]},\"x\":[\"categorie 0\",\"categorie 1\",\"categorie 2\"]},\"selected\":{\"id\":\"1426\"},\"selection_policy\":{\"id\":\"1425\"}},\"id\":\"1360\",\"type\":\"ColumnDataSource\"}],\"root_ids\":[\"1325\"]},\"title\":\"Bokeh Application\",\"version\":\"2.4.3\"}};\n  const render_items = [{\"docid\":\"eb85e61c-bc79-4be0-afa4-718c7eb68ca1\",\"root_ids\":[\"1325\"],\"roots\":{\"1325\":\"fc90ff7d-fe47-4b60-aeb7-8db0922900ad\"}}];\n  root.Bokeh.embed.embed_items_notebook(docs_json, render_items);\n  }\n  if (root.Bokeh !== undefined) {\n    embed_document(root);\n  } else {\n    let attempts = 0;\n    const timer = setInterval(function(root) {\n      if (root.Bokeh !== undefined) {\n        clearInterval(timer);\n        embed_document(root);\n      } else {\n        attempts++;\n        if (attempts > 100) {\n          clearInterval(timer);\n          console.log(\"Bokeh: ERROR: Unable to run BokehJS code because BokehJS library is missing\");\n        }\n      }\n    }, 10, root)\n  }\n})(window);",
      "application/vnd.bokehjs_exec.v0+json": ""
     },
     "metadata": {
      "application/vnd.bokehjs_exec.v0+json": {
       "id": "1325"
      }
     },
     "output_type": "display_data"
    }
   ],
   "source": [
    "# generate some synthetic time series for six different categories\n",
    "cats = ['categorie 0','categorie 1','categorie 2']\n",
    "\n",
    "# find the quartiles and IQR for each category\n",
    "groups = df_clean_products.groupby('categ')\n",
    "q1 = groups.quantile(q=0.25)\n",
    "q2 = groups.quantile(q=0.5)\n",
    "q3 = groups.quantile(q=0.75)\n",
    "iqr = q3 - q1\n",
    "upper = q3 + 1.5*iqr\n",
    "lower = q1 - 1.5*iqr\n",
    "\n",
    "# find the outliers for each category\n",
    "def outliers(group):\n",
    "    cat = group.name\n",
    "    return group[(group.price > upper.loc[cat]['price']) | (group.price < lower.loc[cat]['price'])]['price']\n",
    "out = groups.apply(outliers).dropna()\n",
    "\n",
    "# prepare outlier data for plotting, we need coordinates for every outlier.\n",
    "if not out.empty:\n",
    "    outx = list(out.index.get_level_values(0))\n",
    "    outy = list(out.values)\n",
    "    for i in range(len(outx)):\n",
    "        if outx[i]==0:\n",
    "            outx[i]='categorie 0'\n",
    "        elif outx[i]==1:\n",
    "            outx[i]='categorie 1'\n",
    "        elif outx[i]==2:\n",
    "            outx[i]='categorie 2'\n",
    "\n",
    "\n",
    "p = figure(tools=\"\", background_fill_color=\"#efefef\", width=800, height=800, x_range=cats, toolbar_location=None)\n",
    "\n",
    "# if no outliers, shrink lengths of stems to be no longer than the minimums or maximums\n",
    "qmin = groups.quantile(q=0.00)\n",
    "qmax = groups.quantile(q=1.00)\n",
    "upper.price = [min([x,y]) for (x,y) in zip(list(qmax.loc[:,'price']),upper.price)]\n",
    "lower.price = [max([x,y]) for (x,y) in zip(list(qmin.loc[:,'price']),lower.price)]\n",
    "\n",
    "# stems\n",
    "p.segment(cats, upper.price, cats, q3.price, line_color=\"black\")\n",
    "p.segment(cats, lower.price, cats, q1.price, line_color=\"black\")\n",
    "\n",
    "# boxes\n",
    "p.vbar(cats, 0.7, q2.price, q3.price, fill_color=\"#E08E79\", line_color=\"black\")\n",
    "p.vbar(cats, 0.7, q1.price, q2.price, fill_color=\"#3B8686\", line_color=\"black\")\n",
    "\n",
    "# whiskers (almost-0 height rects simpler than segments)\n",
    "p.rect(cats, lower.price, 0.2, 0.01, line_color=\"black\")\n",
    "p.rect(cats, upper.price, 0.2, 0.01, line_color=\"black\")\n",
    "\n",
    "# outliers\n",
    "if not out.empty:\n",
    "    p.circle(outx, outy, size=6, color=\"#F38630\", fill_alpha=0.6)\n",
    "\n",
    "p.xgrid.grid_line_color = None\n",
    "p.ygrid.grid_line_color = \"white\"\n",
    "p.grid.grid_line_width = 2\n",
    "p.xaxis.major_label_text_font_size=\"16px\"\n",
    "\n",
    "show(p)"
   ]
  },
  {
   "cell_type": "markdown",
   "id": "52954ee2",
   "metadata": {},
   "source": [
    "### Analyse des outliers"
   ]
  },
  {
   "cell_type": "code",
   "execution_count": 35,
   "id": "8ff9262e",
   "metadata": {},
   "outputs": [],
   "source": [
    "df_categ0=df_clean_products[df_clean_products['categ']==0]\n",
    "df_categ1=df_clean_products[df_clean_products['categ']==1]\n",
    "df_categ2=df_clean_products[df_clean_products['categ']==2]"
   ]
  },
  {
   "cell_type": "markdown",
   "id": "0565c083",
   "metadata": {},
   "source": [
    "#### Categorie 0"
   ]
  },
  {
   "cell_type": "code",
   "execution_count": 36,
   "id": "7a6da06f",
   "metadata": {},
   "outputs": [
    {
     "data": {
      "text/html": [
       "<div>\n",
       "<style scoped>\n",
       "    .dataframe tbody tr th:only-of-type {\n",
       "        vertical-align: middle;\n",
       "    }\n",
       "\n",
       "    .dataframe tbody tr th {\n",
       "        vertical-align: top;\n",
       "    }\n",
       "\n",
       "    .dataframe thead th {\n",
       "        text-align: right;\n",
       "    }\n",
       "</style>\n",
       "<table border=\"1\" class=\"dataframe\">\n",
       "  <thead>\n",
       "    <tr style=\"text-align: right;\">\n",
       "      <th></th>\n",
       "      <th>id_prod</th>\n",
       "      <th>price</th>\n",
       "      <th>categ</th>\n",
       "    </tr>\n",
       "  </thead>\n",
       "  <tbody>\n",
       "    <tr>\n",
       "      <th>1726</th>\n",
       "      <td>0_604</td>\n",
       "      <td>33.54</td>\n",
       "      <td>0</td>\n",
       "    </tr>\n",
       "    <tr>\n",
       "      <th>2616</th>\n",
       "      <td>0_1597</td>\n",
       "      <td>33.99</td>\n",
       "      <td>0</td>\n",
       "    </tr>\n",
       "    <tr>\n",
       "      <th>7</th>\n",
       "      <td>0_2157</td>\n",
       "      <td>34.99</td>\n",
       "      <td>0</td>\n",
       "    </tr>\n",
       "    <tr>\n",
       "      <th>2409</th>\n",
       "      <td>0_2177</td>\n",
       "      <td>34.99</td>\n",
       "      <td>0</td>\n",
       "    </tr>\n",
       "    <tr>\n",
       "      <th>2117</th>\n",
       "      <td>0_143</td>\n",
       "      <td>34.99</td>\n",
       "      <td>0</td>\n",
       "    </tr>\n",
       "    <tr>\n",
       "      <th>2092</th>\n",
       "      <td>0_573</td>\n",
       "      <td>34.99</td>\n",
       "      <td>0</td>\n",
       "    </tr>\n",
       "    <tr>\n",
       "      <th>1671</th>\n",
       "      <td>0_1415</td>\n",
       "      <td>34.99</td>\n",
       "      <td>0</td>\n",
       "    </tr>\n",
       "    <tr>\n",
       "      <th>3209</th>\n",
       "      <td>0_1749</td>\n",
       "      <td>34.99</td>\n",
       "      <td>0</td>\n",
       "    </tr>\n",
       "    <tr>\n",
       "      <th>384</th>\n",
       "      <td>0_907</td>\n",
       "      <td>34.99</td>\n",
       "      <td>0</td>\n",
       "    </tr>\n",
       "    <tr>\n",
       "      <th>184</th>\n",
       "      <td>0_1016</td>\n",
       "      <td>35.06</td>\n",
       "      <td>0</td>\n",
       "    </tr>\n",
       "    <tr>\n",
       "      <th>512</th>\n",
       "      <td>0_822</td>\n",
       "      <td>35.30</td>\n",
       "      <td>0</td>\n",
       "    </tr>\n",
       "    <tr>\n",
       "      <th>623</th>\n",
       "      <td>0_289</td>\n",
       "      <td>36.99</td>\n",
       "      <td>0</td>\n",
       "    </tr>\n",
       "    <tr>\n",
       "      <th>1294</th>\n",
       "      <td>0_920</td>\n",
       "      <td>37.46</td>\n",
       "      <td>0</td>\n",
       "    </tr>\n",
       "    <tr>\n",
       "      <th>76</th>\n",
       "      <td>0_548</td>\n",
       "      <td>37.53</td>\n",
       "      <td>0</td>\n",
       "    </tr>\n",
       "    <tr>\n",
       "      <th>2573</th>\n",
       "      <td>0_60</td>\n",
       "      <td>37.64</td>\n",
       "      <td>0</td>\n",
       "    </tr>\n",
       "    <tr>\n",
       "      <th>1221</th>\n",
       "      <td>0_1544</td>\n",
       "      <td>37.91</td>\n",
       "      <td>0</td>\n",
       "    </tr>\n",
       "    <tr>\n",
       "      <th>391</th>\n",
       "      <td>0_1239</td>\n",
       "      <td>37.99</td>\n",
       "      <td>0</td>\n",
       "    </tr>\n",
       "    <tr>\n",
       "      <th>2663</th>\n",
       "      <td>0_1581</td>\n",
       "      <td>37.99</td>\n",
       "      <td>0</td>\n",
       "    </tr>\n",
       "    <tr>\n",
       "      <th>569</th>\n",
       "      <td>0_197</td>\n",
       "      <td>37.99</td>\n",
       "      <td>0</td>\n",
       "    </tr>\n",
       "    <tr>\n",
       "      <th>1360</th>\n",
       "      <td>0_494</td>\n",
       "      <td>39.58</td>\n",
       "      <td>0</td>\n",
       "    </tr>\n",
       "    <tr>\n",
       "      <th>2809</th>\n",
       "      <td>0_2147</td>\n",
       "      <td>39.99</td>\n",
       "      <td>0</td>\n",
       "    </tr>\n",
       "    <tr>\n",
       "      <th>47</th>\n",
       "      <td>0_1629</td>\n",
       "      <td>40.99</td>\n",
       "      <td>0</td>\n",
       "    </tr>\n",
       "  </tbody>\n",
       "</table>\n",
       "</div>"
      ],
      "text/plain": [
       "     id_prod  price  categ\n",
       "1726   0_604  33.54      0\n",
       "2616  0_1597  33.99      0\n",
       "7     0_2157  34.99      0\n",
       "2409  0_2177  34.99      0\n",
       "2117   0_143  34.99      0\n",
       "2092   0_573  34.99      0\n",
       "1671  0_1415  34.99      0\n",
       "3209  0_1749  34.99      0\n",
       "384    0_907  34.99      0\n",
       "184   0_1016  35.06      0\n",
       "512    0_822  35.30      0\n",
       "623    0_289  36.99      0\n",
       "1294   0_920  37.46      0\n",
       "76     0_548  37.53      0\n",
       "2573    0_60  37.64      0\n",
       "1221  0_1544  37.91      0\n",
       "391   0_1239  37.99      0\n",
       "2663  0_1581  37.99      0\n",
       "569    0_197  37.99      0\n",
       "1360   0_494  39.58      0\n",
       "2809  0_2147  39.99      0\n",
       "47    0_1629  40.99      0"
      ]
     },
     "execution_count": 36,
     "metadata": {},
     "output_type": "execute_result"
    }
   ],
   "source": [
    "categ0_outliers = df_categ0[df_categ0['price']> upper['price'][0]]\n",
    "categ0_outliers.sort_values(by='price')\n"
   ]
  },
  {
   "cell_type": "code",
   "execution_count": 37,
   "id": "fd445a1a",
   "metadata": {},
   "outputs": [
    {
     "data": {
      "text/html": [
       "<div>\n",
       "<style scoped>\n",
       "    .dataframe tbody tr th:only-of-type {\n",
       "        vertical-align: middle;\n",
       "    }\n",
       "\n",
       "    .dataframe tbody tr th {\n",
       "        vertical-align: top;\n",
       "    }\n",
       "\n",
       "    .dataframe thead th {\n",
       "        text-align: right;\n",
       "    }\n",
       "</style>\n",
       "<table border=\"1\" class=\"dataframe\">\n",
       "  <thead>\n",
       "    <tr style=\"text-align: right;\">\n",
       "      <th></th>\n",
       "      <th>id_prod</th>\n",
       "      <th>price</th>\n",
       "      <th>categ</th>\n",
       "      <th>date</th>\n",
       "      <th>session_id</th>\n",
       "      <th>client_id</th>\n",
       "    </tr>\n",
       "  </thead>\n",
       "  <tbody>\n",
       "    <tr>\n",
       "      <th>184</th>\n",
       "      <td>0_1016</td>\n",
       "      <td>35.06</td>\n",
       "      <td>0</td>\n",
       "      <td>NaN</td>\n",
       "      <td>NaN</td>\n",
       "      <td>NaN</td>\n",
       "    </tr>\n",
       "  </tbody>\n",
       "</table>\n",
       "</div>"
      ],
      "text/plain": [
       "    id_prod  price  categ date session_id client_id\n",
       "184  0_1016  35.06      0  NaN        NaN       NaN"
      ]
     },
     "execution_count": 37,
     "metadata": {},
     "output_type": "execute_result"
    }
   ],
   "source": [
    "categ0_outliers = categ0_outliers.join(df_transactions.set_index('id_prod'), on='id_prod')\n",
    "categ0_outliers[categ0_outliers['date'].isnull()]"
   ]
  },
  {
   "cell_type": "markdown",
   "id": "43e3426e",
   "metadata": {},
   "source": [
    "#### Categorie 1"
   ]
  },
  {
   "cell_type": "code",
   "execution_count": 38,
   "id": "17bc1e03",
   "metadata": {},
   "outputs": [
    {
     "data": {
      "text/html": [
       "<div>\n",
       "<style scoped>\n",
       "    .dataframe tbody tr th:only-of-type {\n",
       "        vertical-align: middle;\n",
       "    }\n",
       "\n",
       "    .dataframe tbody tr th {\n",
       "        vertical-align: top;\n",
       "    }\n",
       "\n",
       "    .dataframe thead th {\n",
       "        text-align: right;\n",
       "    }\n",
       "</style>\n",
       "<table border=\"1\" class=\"dataframe\">\n",
       "  <thead>\n",
       "    <tr style=\"text-align: right;\">\n",
       "      <th></th>\n",
       "      <th>id_prod</th>\n",
       "      <th>price</th>\n",
       "      <th>categ</th>\n",
       "    </tr>\n",
       "  </thead>\n",
       "  <tbody>\n",
       "    <tr>\n",
       "      <th>743</th>\n",
       "      <td>1_315</td>\n",
       "      <td>66.99</td>\n",
       "      <td>1</td>\n",
       "    </tr>\n",
       "    <tr>\n",
       "      <th>1695</th>\n",
       "      <td>1_184</td>\n",
       "      <td>67.65</td>\n",
       "      <td>1</td>\n",
       "    </tr>\n",
       "    <tr>\n",
       "      <th>2324</th>\n",
       "      <td>1_514</td>\n",
       "      <td>67.66</td>\n",
       "      <td>1</td>\n",
       "    </tr>\n",
       "    <tr>\n",
       "      <th>1044</th>\n",
       "      <td>1_354</td>\n",
       "      <td>68.49</td>\n",
       "      <td>1</td>\n",
       "    </tr>\n",
       "    <tr>\n",
       "      <th>204</th>\n",
       "      <td>1_496</td>\n",
       "      <td>70.51</td>\n",
       "      <td>1</td>\n",
       "    </tr>\n",
       "    <tr>\n",
       "      <th>2962</th>\n",
       "      <td>1_608</td>\n",
       "      <td>72.75</td>\n",
       "      <td>1</td>\n",
       "    </tr>\n",
       "    <tr>\n",
       "      <th>2827</th>\n",
       "      <td>1_171</td>\n",
       "      <td>73.99</td>\n",
       "      <td>1</td>\n",
       "    </tr>\n",
       "    <tr>\n",
       "      <th>808</th>\n",
       "      <td>1_10</td>\n",
       "      <td>78.83</td>\n",
       "      <td>1</td>\n",
       "    </tr>\n",
       "    <tr>\n",
       "      <th>879</th>\n",
       "      <td>1_679</td>\n",
       "      <td>79.99</td>\n",
       "      <td>1</td>\n",
       "    </tr>\n",
       "    <tr>\n",
       "      <th>824</th>\n",
       "      <td>1_13</td>\n",
       "      <td>80.99</td>\n",
       "      <td>1</td>\n",
       "    </tr>\n",
       "  </tbody>\n",
       "</table>\n",
       "</div>"
      ],
      "text/plain": [
       "     id_prod  price  categ\n",
       "743    1_315  66.99      1\n",
       "1695   1_184  67.65      1\n",
       "2324   1_514  67.66      1\n",
       "1044   1_354  68.49      1\n",
       "204    1_496  70.51      1\n",
       "2962   1_608  72.75      1\n",
       "2827   1_171  73.99      1\n",
       "808     1_10  78.83      1\n",
       "879    1_679  79.99      1\n",
       "824     1_13  80.99      1"
      ]
     },
     "execution_count": 38,
     "metadata": {},
     "output_type": "execute_result"
    }
   ],
   "source": [
    "categ1_outliers = df_categ1[df_categ1['price']> upper['price'][1]]\n",
    "categ1_outliers.sort_values(by='price')"
   ]
  },
  {
   "cell_type": "code",
   "execution_count": 39,
   "id": "3b715a55",
   "metadata": {},
   "outputs": [
    {
     "data": {
      "text/html": [
       "<div>\n",
       "<style scoped>\n",
       "    .dataframe tbody tr th:only-of-type {\n",
       "        vertical-align: middle;\n",
       "    }\n",
       "\n",
       "    .dataframe tbody tr th {\n",
       "        vertical-align: top;\n",
       "    }\n",
       "\n",
       "    .dataframe thead th {\n",
       "        text-align: right;\n",
       "    }\n",
       "</style>\n",
       "<table border=\"1\" class=\"dataframe\">\n",
       "  <thead>\n",
       "    <tr style=\"text-align: right;\">\n",
       "      <th></th>\n",
       "      <th>id_prod</th>\n",
       "      <th>price</th>\n",
       "      <th>categ</th>\n",
       "      <th>date</th>\n",
       "      <th>session_id</th>\n",
       "      <th>client_id</th>\n",
       "    </tr>\n",
       "  </thead>\n",
       "  <tbody>\n",
       "  </tbody>\n",
       "</table>\n",
       "</div>"
      ],
      "text/plain": [
       "Empty DataFrame\n",
       "Columns: [id_prod, price, categ, date, session_id, client_id]\n",
       "Index: []"
      ]
     },
     "execution_count": 39,
     "metadata": {},
     "output_type": "execute_result"
    }
   ],
   "source": [
    "categ1_outliers = categ1_outliers.join(df_transactions.set_index('id_prod'), on='id_prod')\n",
    "categ1_outliers[categ1_outliers['date'].isnull()]"
   ]
  },
  {
   "cell_type": "markdown",
   "id": "7265c272",
   "metadata": {},
   "source": [
    "#### Categorie 2"
   ]
  },
  {
   "cell_type": "code",
   "execution_count": 40,
   "id": "5c55994d",
   "metadata": {},
   "outputs": [
    {
     "data": {
      "text/html": [
       "<div>\n",
       "<style scoped>\n",
       "    .dataframe tbody tr th:only-of-type {\n",
       "        vertical-align: middle;\n",
       "    }\n",
       "\n",
       "    .dataframe tbody tr th {\n",
       "        vertical-align: top;\n",
       "    }\n",
       "\n",
       "    .dataframe thead th {\n",
       "        text-align: right;\n",
       "    }\n",
       "</style>\n",
       "<table border=\"1\" class=\"dataframe\">\n",
       "  <thead>\n",
       "    <tr style=\"text-align: right;\">\n",
       "      <th></th>\n",
       "      <th>id_prod</th>\n",
       "      <th>price</th>\n",
       "      <th>categ</th>\n",
       "    </tr>\n",
       "  </thead>\n",
       "  <tbody>\n",
       "    <tr>\n",
       "      <th>1436</th>\n",
       "      <td>2_167</td>\n",
       "      <td>236.99</td>\n",
       "      <td>2</td>\n",
       "    </tr>\n",
       "    <tr>\n",
       "      <th>394</th>\n",
       "      <td>2_158</td>\n",
       "      <td>247.22</td>\n",
       "      <td>2</td>\n",
       "    </tr>\n",
       "    <tr>\n",
       "      <th>724</th>\n",
       "      <td>2_76</td>\n",
       "      <td>254.44</td>\n",
       "      <td>2</td>\n",
       "    </tr>\n",
       "    <tr>\n",
       "      <th>947</th>\n",
       "      <td>2_2</td>\n",
       "      <td>300.00</td>\n",
       "      <td>2</td>\n",
       "    </tr>\n",
       "  </tbody>\n",
       "</table>\n",
       "</div>"
      ],
      "text/plain": [
       "     id_prod   price  categ\n",
       "1436   2_167  236.99      2\n",
       "394    2_158  247.22      2\n",
       "724     2_76  254.44      2\n",
       "947      2_2  300.00      2"
      ]
     },
     "execution_count": 40,
     "metadata": {},
     "output_type": "execute_result"
    }
   ],
   "source": [
    "categ2_outliers = df_categ2[df_categ2['price']> upper['price'][2]]\n",
    "categ2_outliers.sort_values(by='price')"
   ]
  },
  {
   "cell_type": "code",
   "execution_count": 41,
   "id": "678ca386",
   "metadata": {},
   "outputs": [
    {
     "data": {
      "text/html": [
       "<div>\n",
       "<style scoped>\n",
       "    .dataframe tbody tr th:only-of-type {\n",
       "        vertical-align: middle;\n",
       "    }\n",
       "\n",
       "    .dataframe tbody tr th {\n",
       "        vertical-align: top;\n",
       "    }\n",
       "\n",
       "    .dataframe thead th {\n",
       "        text-align: right;\n",
       "    }\n",
       "</style>\n",
       "<table border=\"1\" class=\"dataframe\">\n",
       "  <thead>\n",
       "    <tr style=\"text-align: right;\">\n",
       "      <th></th>\n",
       "      <th>id_prod</th>\n",
       "      <th>price</th>\n",
       "      <th>categ</th>\n",
       "      <th>date</th>\n",
       "      <th>session_id</th>\n",
       "      <th>client_id</th>\n",
       "    </tr>\n",
       "  </thead>\n",
       "  <tbody>\n",
       "  </tbody>\n",
       "</table>\n",
       "</div>"
      ],
      "text/plain": [
       "Empty DataFrame\n",
       "Columns: [id_prod, price, categ, date, session_id, client_id]\n",
       "Index: []"
      ]
     },
     "execution_count": 41,
     "metadata": {},
     "output_type": "execute_result"
    }
   ],
   "source": [
    "categ2_outliers = categ2_outliers.join(df_transactions.set_index('id_prod'), on='id_prod')\n",
    "categ2_outliers[categ2_outliers['date'].isnull()]"
   ]
  },
  {
   "cell_type": "markdown",
   "id": "99edfd4c",
   "metadata": {},
   "source": [
    "Si nous remarquons bien des outliers, rien ne nous permet d'affirmer que ceux-ci sont le produit d'une erreur. Nous allons donc les garder dans notre analyse."
   ]
  },
  {
   "cell_type": "markdown",
   "id": "9c474328",
   "metadata": {},
   "source": [
    "# Nettoyage Table Transactions"
   ]
  },
  {
   "cell_type": "code",
   "execution_count": 42,
   "id": "272eccae",
   "metadata": {},
   "outputs": [
    {
     "name": "stdout",
     "output_type": "stream",
     "text": [
      "<class 'pandas.core.frame.DataFrame'>\n",
      "RangeIndex: 679532 entries, 0 to 679531\n",
      "Data columns (total 4 columns):\n",
      " #   Column      Non-Null Count   Dtype \n",
      "---  ------      --------------   ----- \n",
      " 0   id_prod     679532 non-null  object\n",
      " 1   date        679532 non-null  object\n",
      " 2   session_id  679532 non-null  object\n",
      " 3   client_id   679532 non-null  object\n",
      "dtypes: object(4)\n",
      "memory usage: 20.7+ MB\n"
     ]
    }
   ],
   "source": [
    "df_transactions.info()"
   ]
  },
  {
   "cell_type": "markdown",
   "id": "312a40f0",
   "metadata": {},
   "source": [
    "Nous allons maintenant nettoyer la table **Transactions** en supprimant les lignes qui ne nous intéressent pas :\n",
    "- Les lignes de test\n",
    "- Les lignes avec des produits non non présent dans la table **Products**\n",
    "\n",
    "Nous mettrons aussi la date dans un format plus facilement manipulable."
   ]
  },
  {
   "cell_type": "code",
   "execution_count": 43,
   "id": "34aa1f49",
   "metadata": {},
   "outputs": [
    {
     "name": "stdout",
     "output_type": "stream",
     "text": [
      "Nombre de données Test : 200\n",
      "Nombre de produits non présents dans la table produits : 221\n",
      "\n",
      "<class 'pandas.core.frame.DataFrame'>\n",
      "Int64Index: 679111 entries, 0 to 679531\n",
      "Data columns (total 4 columns):\n",
      " #   Column      Non-Null Count   Dtype \n",
      "---  ------      --------------   ----- \n",
      " 0   id_prod     679111 non-null  object\n",
      " 1   date        679111 non-null  object\n",
      " 2   session_id  679111 non-null  object\n",
      " 3   client_id   679111 non-null  object\n",
      "dtypes: object(4)\n",
      "memory usage: 25.9+ MB\n"
     ]
    }
   ],
   "source": [
    "df_clean_transaction=df_transactions[df_transactions['session_id']!='s_0']\n",
    "df_clean_transaction=df_clean_transaction[~df_clean_transaction['id_prod'].isin(transaid_notin_prod)]\n",
    "\n",
    "dates=df_clean_transaction['date'].tolist()\n",
    "dates=[date[:10] for date in dates]\n",
    "df_clean_transaction['date']=dates\n",
    "\n",
    "df_clean_transaction.to_csv('./cleaned_data/clean_transactions.csv',index=False)\n",
    "print('Nombre de données Test : {}'.format(len(df_transactions[df_transactions['session_id']=='s_0'])))\n",
    "print('Nombre de produits non présents dans la table produits : {}'.format(len(df_transactions[df_transactions['id_prod'].isin(transaid_notin_prod)])))\n",
    "print()\n",
    "df_clean_transaction.info()"
   ]
  },
  {
   "cell_type": "code",
   "execution_count": 44,
   "id": "0510f81c",
   "metadata": {},
   "outputs": [
    {
     "data": {
      "text/html": [
       "<div>\n",
       "<style scoped>\n",
       "    .dataframe tbody tr th:only-of-type {\n",
       "        vertical-align: middle;\n",
       "    }\n",
       "\n",
       "    .dataframe tbody tr th {\n",
       "        vertical-align: top;\n",
       "    }\n",
       "\n",
       "    .dataframe thead th {\n",
       "        text-align: right;\n",
       "    }\n",
       "</style>\n",
       "<table border=\"1\" class=\"dataframe\">\n",
       "  <thead>\n",
       "    <tr style=\"text-align: right;\">\n",
       "      <th></th>\n",
       "      <th>id_prod</th>\n",
       "      <th>date</th>\n",
       "      <th>session_id</th>\n",
       "      <th>client_id</th>\n",
       "    </tr>\n",
       "  </thead>\n",
       "  <tbody>\n",
       "    <tr>\n",
       "      <th>0</th>\n",
       "      <td>0_1518</td>\n",
       "      <td>2022-05-20</td>\n",
       "      <td>s_211425</td>\n",
       "      <td>c_103</td>\n",
       "    </tr>\n",
       "    <tr>\n",
       "      <th>1</th>\n",
       "      <td>1_251</td>\n",
       "      <td>2022-02-02</td>\n",
       "      <td>s_158752</td>\n",
       "      <td>c_8534</td>\n",
       "    </tr>\n",
       "    <tr>\n",
       "      <th>2</th>\n",
       "      <td>0_1277</td>\n",
       "      <td>2022-06-18</td>\n",
       "      <td>s_225667</td>\n",
       "      <td>c_6714</td>\n",
       "    </tr>\n",
       "  </tbody>\n",
       "</table>\n",
       "</div>"
      ],
      "text/plain": [
       "  id_prod        date session_id client_id\n",
       "0  0_1518  2022-05-20   s_211425     c_103\n",
       "1   1_251  2022-02-02   s_158752    c_8534\n",
       "2  0_1277  2022-06-18   s_225667    c_6714"
      ]
     },
     "execution_count": 44,
     "metadata": {},
     "output_type": "execute_result"
    }
   ],
   "source": [
    "df_clean_transaction.head(3)"
   ]
  },
  {
   "cell_type": "markdown",
   "id": "61c71741",
   "metadata": {},
   "source": [
    "# Nettoyage Table Customers"
   ]
  },
  {
   "cell_type": "code",
   "execution_count": 45,
   "id": "3a7d0334",
   "metadata": {},
   "outputs": [
    {
     "name": "stdout",
     "output_type": "stream",
     "text": [
      "<class 'pandas.core.frame.DataFrame'>\n",
      "RangeIndex: 8623 entries, 0 to 8622\n",
      "Data columns (total 3 columns):\n",
      " #   Column     Non-Null Count  Dtype \n",
      "---  ------     --------------  ----- \n",
      " 0   client_id  8623 non-null   object\n",
      " 1   sex        8623 non-null   object\n",
      " 2   birth      8623 non-null   int64 \n",
      "dtypes: int64(1), object(2)\n",
      "memory usage: 202.2+ KB\n"
     ]
    }
   ],
   "source": [
    "df_customers.info()"
   ]
  },
  {
   "cell_type": "markdown",
   "id": "d25135ba",
   "metadata": {},
   "source": [
    "Nous allons nettoyer la table **Customers** en supprimant les lignes qui ne nous intéressent pas :\n",
    "- Les clients n'ayant aucun achat enregistrés"
   ]
  },
  {
   "cell_type": "code",
   "execution_count": 46,
   "id": "7a329809",
   "metadata": {},
   "outputs": [
    {
     "name": "stdout",
     "output_type": "stream",
     "text": [
      "Nombre de client_id non présent dans la table transaction : 21\n",
      "\n",
      "<class 'pandas.core.frame.DataFrame'>\n",
      "Int64Index: 8602 entries, 0 to 8622\n",
      "Data columns (total 3 columns):\n",
      " #   Column     Non-Null Count  Dtype \n",
      "---  ------     --------------  ----- \n",
      " 0   client_id  8602 non-null   object\n",
      " 1   sex        8602 non-null   object\n",
      " 2   birth      8602 non-null   int64 \n",
      "dtypes: int64(1), object(2)\n",
      "memory usage: 268.8+ KB\n"
     ]
    }
   ],
   "source": [
    "df_clean_customers=df_customers[~df_customers['client_id'].isin(customercid_notin_transac)]\n",
    "df_clean_customers.to_csv('./cleaned_data/clean_customers.csv',index=False)\n",
    "print('Nombre de client_id non présent dans la table transaction : {}'.format(len(customercid_notin_transac)))\n",
    "print()\n",
    "df_clean_customers.info()"
   ]
  },
  {
   "cell_type": "markdown",
   "id": "c1f0264c",
   "metadata": {},
   "source": [
    "# Nettoyage Table Products"
   ]
  },
  {
   "cell_type": "code",
   "execution_count": 47,
   "id": "d13bbbe1",
   "metadata": {},
   "outputs": [
    {
     "name": "stdout",
     "output_type": "stream",
     "text": [
      "<class 'pandas.core.frame.DataFrame'>\n",
      "RangeIndex: 3287 entries, 0 to 3286\n",
      "Data columns (total 3 columns):\n",
      " #   Column   Non-Null Count  Dtype  \n",
      "---  ------   --------------  -----  \n",
      " 0   id_prod  3287 non-null   object \n",
      " 1   price    3287 non-null   float64\n",
      " 2   categ    3287 non-null   int64  \n",
      "dtypes: float64(1), int64(1), object(1)\n",
      "memory usage: 77.2+ KB\n"
     ]
    }
   ],
   "source": [
    "df_products.info()"
   ]
  },
  {
   "cell_type": "markdown",
   "id": "e7d14dc6",
   "metadata": {},
   "source": [
    "Nous allons nettoyer la table **Products** en supprimant les lignes qui ne nous intéressent pas :\n",
    "- Les produits non présent dans la table **Transactions**\n",
    "- Les produits de test"
   ]
  },
  {
   "cell_type": "code",
   "execution_count": 48,
   "id": "7c88f600",
   "metadata": {},
   "outputs": [
    {
     "name": "stdout",
     "output_type": "stream",
     "text": [
      "Nombre de product_id non présent dans la table transaction : 21\n",
      "Nombre de lignes \"produits test\" : 1\n",
      "\n",
      "<class 'pandas.core.frame.DataFrame'>\n",
      "Int64Index: 3265 entries, 0 to 3286\n",
      "Data columns (total 3 columns):\n",
      " #   Column   Non-Null Count  Dtype  \n",
      "---  ------   --------------  -----  \n",
      " 0   id_prod  3265 non-null   object \n",
      " 1   price    3265 non-null   float64\n",
      " 2   categ    3265 non-null   int64  \n",
      "dtypes: float64(1), int64(1), object(1)\n",
      "memory usage: 102.0+ KB\n"
     ]
    }
   ],
   "source": [
    "df_clean_products=df_products[df_products['id_prod']!='T_0']\n",
    "df_clean_products=df_clean_products[~df_clean_products['id_prod'].isin(productid_notin_transa)]\n",
    "df_clean_products.to_csv(\"./cleaned_data/clean_products.csv\",index=False)\n",
    "print('Nombre de product_id non présent dans la table transaction : {}'.format(len(productid_notin_transa)))\n",
    "print('Nombre de lignes \"produits test\" : 1')\n",
    "print()\n",
    "df_clean_products.info()"
   ]
  }
 ],
 "metadata": {
  "kernelspec": {
   "display_name": "Python 3.10.6 ('venv': venv)",
   "language": "python",
   "name": "python3"
  },
  "language_info": {
   "codemirror_mode": {
    "name": "ipython",
    "version": 3
   },
   "file_extension": ".py",
   "mimetype": "text/x-python",
   "name": "python",
   "nbconvert_exporter": "python",
   "pygments_lexer": "ipython3",
   "version": "3.10.6"
  },
  "vscode": {
   "interpreter": {
    "hash": "4a9b16346099c00bd09efcb2cf800914ec251ce7933f8d7b72a80093bdc28dec"
   }
  }
 },
 "nbformat": 4,
 "nbformat_minor": 5
}
