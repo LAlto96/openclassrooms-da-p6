{
 "cells": [
  {
   "cell_type": "code",
   "execution_count": 1,
   "id": "dffedc5c-5cbf-4c64-b02c-db2e3f15566b",
   "metadata": {},
   "outputs": [],
   "source": [
    "import numpy as np"
   ]
  },
  {
   "cell_type": "code",
   "execution_count": 3,
   "id": "133ffee4-9d61-4fa2-9ce7-590fe2b6c041",
   "metadata": {},
   "outputs": [
    {
     "data": {
      "text/plain": [
       "array([559, 498, 159, ..., 420, 140, 911])"
      ]
     },
     "execution_count": 3,
     "metadata": {},
     "output_type": "execute_result"
    }
   ],
   "source": [
    "echantillon=np.random.randint(1000,size=10000)\n",
    "echantillon"
   ]
  },
  {
   "cell_type": "code",
   "execution_count": 5,
   "id": "45290879-fa6e-40c3-9981-432e197f3aa2",
   "metadata": {},
   "outputs": [
    {
     "data": {
      "text/plain": [
       "288.8784314811336"
      ]
     },
     "execution_count": 5,
     "metadata": {},
     "output_type": "execute_result"
    }
   ],
   "source": [
    "variance=np.std(echantillon)\n",
    "variance"
   ]
  },
  {
   "cell_type": "code",
   "execution_count": 7,
   "id": "7311509c-ef03-4c47-9454-b581f9598d5c",
   "metadata": {},
   "outputs": [
    {
     "data": {
      "text/plain": [
       "288.89287648609206"
      ]
     },
     "execution_count": 7,
     "metadata": {},
     "output_type": "execute_result"
    }
   ],
   "source": [
    "variance_non_corrige=np.std(echantillon,ddof=1)\n",
    "variance_non_corrige"
   ]
  },
  {
   "cell_type": "markdown",
   "id": "a37f2e2a-5f3b-41ad-a41a-985631baf532",
   "metadata": {},
   "source": [
    "$S²=\\frac{\\sum{(X_{i}-\\bar{X})²}}{n}$ ou $S'²=\\frac{\\sum{(X_{i}-\\bar{X})²}}{n-1}$ "
   ]
  },
  {
   "cell_type": "code",
   "execution_count": 59,
   "id": "78fb245a-d45b-442e-a320-297c1e54fa2c",
   "metadata": {},
   "outputs": [],
   "source": [
    "def variancestd(x,biased:bool):\n",
    "    var = 0\n",
    "\n",
    "    mean=np.mean(x)\n",
    "    xi=[]\n",
    "    \n",
    "    for i in range(len(x)):\n",
    "        xi.append((x[i]-mean)**2)\n",
    "        \n",
    "    if biased == True:    \n",
    "        var = np.sum(xi)/(len(x))\n",
    "    if biased == False:    \n",
    "        var = np.sum(xi)/(len(x)-1)\n",
    "    \n",
    "    return np.sqrt(var)"
   ]
  },
  {
   "cell_type": "code",
   "execution_count": 60,
   "id": "68a5eb1b-deee-41e9-bf01-e7334147c5ea",
   "metadata": {},
   "outputs": [
    {
     "data": {
      "text/plain": [
       "288.8784314811336"
      ]
     },
     "execution_count": 60,
     "metadata": {},
     "output_type": "execute_result"
    }
   ],
   "source": [
    "variance=variancestd(echantillon,True)\n",
    "variance"
   ]
  },
  {
   "cell_type": "code",
   "execution_count": 61,
   "id": "6313267e-44d4-4dec-bb06-c6e078c77f92",
   "metadata": {},
   "outputs": [
    {
     "data": {
      "text/plain": [
       "288.89287648609206"
      ]
     },
     "execution_count": 61,
     "metadata": {},
     "output_type": "execute_result"
    }
   ],
   "source": [
    "variance_non_corrige=variancestd(echantillon,False)\n",
    "variance_non_corrige"
   ]
  },
  {
   "cell_type": "code",
   "execution_count": null,
   "id": "4f8eddcb-d7fd-4c98-b8a3-e601eb2cc091",
   "metadata": {},
   "outputs": [],
   "source": []
  }
 ],
 "metadata": {
  "kernelspec": {
   "display_name": "Python 3 (ipykernel)",
   "language": "python",
   "name": "python3"
  },
  "language_info": {
   "codemirror_mode": {
    "name": "ipython",
    "version": 3
   },
   "file_extension": ".py",
   "mimetype": "text/x-python",
   "name": "python",
   "nbconvert_exporter": "python",
   "pygments_lexer": "ipython3",
   "version": "3.8.10"
  }
 },
 "nbformat": 4,
 "nbformat_minor": 5
}
